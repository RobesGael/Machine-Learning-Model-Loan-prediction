{
 "cells": [
  {
   "cell_type": "markdown",
   "id": "0706ec6d-6e24-47fd-92c9-ef6a06f33ec5",
   "metadata": {},
   "source": [
    "# Loan Prediction Project\n",
    "\n",
    "Like any data science project, it's important to follow certain steps.\n",
    "\n",
    "\n",
    "\n",
    "### 1- Understanding the problem and defining the goal of the analysis\n",
    "\n",
    "### Context \n",
    "Financial institutions, like banks and credit unions, face the challenge of accurately assessing the creditworthiness of loan applicants. This decision-making process involves balancing the risk of loan default with the potential for profit and serving the needs of their customers. Traditional methods often rely on manual review and credit scoring models, which can be time-consuming, prone to bias, and limited in their ability to capture complex relationships within the data.\n",
    "\n",
    "### Objectives\n",
    "\n",
    "Develop a robust and reliable machine learning model to predict whether or not to authorize loan to a customer. This model will be used to:\n",
    "- Improve loan approval efficiency: By automating the initial screening process, the model can help streamline loan applications and reduce the workload on loan officers.\n",
    "- Reduce risk of loan default: By accurately identifying high-risk applicants, the model can help financial institutions make informed lending decisions and minimize potential losses.\n",
    "- Promote financial inclusion: By considering a wider range of factors beyond traditional credit scores, the model can potentially enable institutions to extend credit opportunities to a broader and more diverse pool of applicants.\n",
    "\n",
    "\n",
    " \n",
    "\n",
    "### 2- Collecting and acquiring data from various sources\n",
    "\n",
    "-\tData source: The dataset come from Kaggle. Loan Prediction Problem Dataset (https://www.kaggle.com/datasets/altruistdelhite04/loan-prediction-problem-dataset?resource=download)\n",
    "-\tData format: The dataset is a CSV file and has 614 rows and 13 columns.\n",
    "-\tData type: No idea. (It’s important to know if the data along the first-party data, the second-party data, or the third-party data. That could be helpful when dealing with missing values) \n",
    "\n"
   ]
  },
  {
   "cell_type": "markdown",
   "id": "a6c061cb-0ce1-4101-9915-a4aeb48fefb9",
   "metadata": {},
   "source": [
    "### 3- Exploring, cleaning and analysis of the data\n"
   ]
  },
  {
   "cell_type": "markdown",
   "id": "a8c7e19e-c407-4d5a-afb2-aedc114b0402",
   "metadata": {},
   "source": [
    "#####  Install and import packages"
   ]
  },
  {
   "cell_type": "code",
   "execution_count": 86,
   "id": "9094a60f-b530-49c9-aa85-3700fbde6053",
   "metadata": {},
   "outputs": [
    {
     "name": "stdout",
     "output_type": "stream",
     "text": [
      "Defaulting to user installation because normal site-packages is not writeable\n",
      "Requirement already satisfied: scikit-learn in c:\\users\\12409\\appdata\\roaming\\python\\python311\\site-packages (1.4.1.post1)\n",
      "Requirement already satisfied: numpy<2.0,>=1.19.5 in c:\\users\\12409\\appdata\\roaming\\python\\python311\\site-packages (from scikit-learn) (1.26.4)\n",
      "Requirement already satisfied: scipy>=1.6.0 in c:\\users\\12409\\appdata\\roaming\\python\\python311\\site-packages (from scikit-learn) (1.12.0)\n",
      "Requirement already satisfied: joblib>=1.2.0 in c:\\users\\12409\\appdata\\roaming\\python\\python311\\site-packages (from scikit-learn) (1.3.2)\n",
      "Requirement already satisfied: threadpoolctl>=2.0.0 in c:\\users\\12409\\appdata\\roaming\\python\\python311\\site-packages (from scikit-learn) (3.3.0)\n"
     ]
    }
   ],
   "source": [
    "!pip install scikit-learn\n",
    "\n",
    "\n"
   ]
  },
  {
   "cell_type": "code",
   "execution_count": 514,
   "id": "6b246c1c-619c-4630-81f7-e4a0f00b0692",
   "metadata": {},
   "outputs": [],
   "source": [
    "# Import packages for data manipulation\n",
    "import pandas as pd\n",
    "import numpy as np\n",
    "\n",
    "# Import packages for visualization\n",
    "import matplotlib.pyplot as plt\n",
    "import seaborn as sns\n",
    "\n",
    "\n",
    "# Import packages for data preprocessing\n",
    "from sklearn.preprocessing import LabelEncoder\n",
    "import pickle\n",
    "\n",
    "\n",
    "# This lets us see all of the columns, preventing Juptyer from redacting them.\n",
    "pd.set_option('display.max_columns', None)\n",
    "\n",
    "\n",
    "# Import packages for data modeling\n",
    "from sklearn.model_selection import train_test_split\n",
    "from sklearn.tree import DecisionTreeClassifier\n",
    "from sklearn.neighbors import KNeighborsClassifier\n",
    "from sklearn.ensemble import RandomForestClassifier\n",
    "from sklearn.linear_model import LogisticRegression\n",
    "from sklearn.metrics import confusion_matrix, ConfusionMatrixDisplay\n",
    "from sklearn.metrics import classification_report\n",
    "from sklearn.metrics import accuracy_score\n",
    "\n",
    "# This module lets us save our models once we fit them.\n",
    "import pickle\n"
   ]
  },
  {
   "cell_type": "markdown",
   "id": "87d78225-529f-4349-a95e-f097bffac41b",
   "metadata": {},
   "source": [
    "#####   Load the dataset"
   ]
  },
  {
   "cell_type": "code",
   "execution_count": 515,
   "id": "fb4b4cd3-1a72-4a87-b098-dfb6c3638baa",
   "metadata": {},
   "outputs": [],
   "source": [
    "# Import the Dataset\n",
    "df =  pd.read_csv('train_u6lujuX_CVtuZ9i.csv')"
   ]
  },
  {
   "cell_type": "markdown",
   "id": "e36494d7-00c2-4563-80ee-95d159d5357b",
   "metadata": {},
   "source": [
    "#####   Display the dataset"
   ]
  },
  {
   "cell_type": "code",
   "execution_count": 516,
   "id": "f4d61195-e8c8-438c-9ea8-0efe194ed0ea",
   "metadata": {},
   "outputs": [
    {
     "data": {
      "text/html": [
       "<div>\n",
       "<style scoped>\n",
       "    .dataframe tbody tr th:only-of-type {\n",
       "        vertical-align: middle;\n",
       "    }\n",
       "\n",
       "    .dataframe tbody tr th {\n",
       "        vertical-align: top;\n",
       "    }\n",
       "\n",
       "    .dataframe thead th {\n",
       "        text-align: right;\n",
       "    }\n",
       "</style>\n",
       "<table border=\"1\" class=\"dataframe\">\n",
       "  <thead>\n",
       "    <tr style=\"text-align: right;\">\n",
       "      <th></th>\n",
       "      <th>Loan_ID</th>\n",
       "      <th>Gender</th>\n",
       "      <th>Married</th>\n",
       "      <th>Dependents</th>\n",
       "      <th>Education</th>\n",
       "      <th>Self_Employed</th>\n",
       "      <th>ApplicantIncome</th>\n",
       "      <th>CoapplicantIncome</th>\n",
       "      <th>LoanAmount</th>\n",
       "      <th>Loan_Amount_Term</th>\n",
       "      <th>Credit_History</th>\n",
       "      <th>Property_Area</th>\n",
       "      <th>Loan_Status</th>\n",
       "    </tr>\n",
       "  </thead>\n",
       "  <tbody>\n",
       "    <tr>\n",
       "      <th>0</th>\n",
       "      <td>LP001002</td>\n",
       "      <td>Male</td>\n",
       "      <td>No</td>\n",
       "      <td>0</td>\n",
       "      <td>Graduate</td>\n",
       "      <td>No</td>\n",
       "      <td>5849</td>\n",
       "      <td>0.0</td>\n",
       "      <td>NaN</td>\n",
       "      <td>360.0</td>\n",
       "      <td>1.0</td>\n",
       "      <td>Urban</td>\n",
       "      <td>Y</td>\n",
       "    </tr>\n",
       "    <tr>\n",
       "      <th>1</th>\n",
       "      <td>LP001003</td>\n",
       "      <td>Male</td>\n",
       "      <td>Yes</td>\n",
       "      <td>1</td>\n",
       "      <td>Graduate</td>\n",
       "      <td>No</td>\n",
       "      <td>4583</td>\n",
       "      <td>1508.0</td>\n",
       "      <td>128.0</td>\n",
       "      <td>360.0</td>\n",
       "      <td>1.0</td>\n",
       "      <td>Rural</td>\n",
       "      <td>N</td>\n",
       "    </tr>\n",
       "    <tr>\n",
       "      <th>2</th>\n",
       "      <td>LP001005</td>\n",
       "      <td>Male</td>\n",
       "      <td>Yes</td>\n",
       "      <td>0</td>\n",
       "      <td>Graduate</td>\n",
       "      <td>Yes</td>\n",
       "      <td>3000</td>\n",
       "      <td>0.0</td>\n",
       "      <td>66.0</td>\n",
       "      <td>360.0</td>\n",
       "      <td>1.0</td>\n",
       "      <td>Urban</td>\n",
       "      <td>Y</td>\n",
       "    </tr>\n",
       "    <tr>\n",
       "      <th>3</th>\n",
       "      <td>LP001006</td>\n",
       "      <td>Male</td>\n",
       "      <td>Yes</td>\n",
       "      <td>0</td>\n",
       "      <td>Not Graduate</td>\n",
       "      <td>No</td>\n",
       "      <td>2583</td>\n",
       "      <td>2358.0</td>\n",
       "      <td>120.0</td>\n",
       "      <td>360.0</td>\n",
       "      <td>1.0</td>\n",
       "      <td>Urban</td>\n",
       "      <td>Y</td>\n",
       "    </tr>\n",
       "    <tr>\n",
       "      <th>4</th>\n",
       "      <td>LP001008</td>\n",
       "      <td>Male</td>\n",
       "      <td>No</td>\n",
       "      <td>0</td>\n",
       "      <td>Graduate</td>\n",
       "      <td>No</td>\n",
       "      <td>6000</td>\n",
       "      <td>0.0</td>\n",
       "      <td>141.0</td>\n",
       "      <td>360.0</td>\n",
       "      <td>1.0</td>\n",
       "      <td>Urban</td>\n",
       "      <td>Y</td>\n",
       "    </tr>\n",
       "    <tr>\n",
       "      <th>...</th>\n",
       "      <td>...</td>\n",
       "      <td>...</td>\n",
       "      <td>...</td>\n",
       "      <td>...</td>\n",
       "      <td>...</td>\n",
       "      <td>...</td>\n",
       "      <td>...</td>\n",
       "      <td>...</td>\n",
       "      <td>...</td>\n",
       "      <td>...</td>\n",
       "      <td>...</td>\n",
       "      <td>...</td>\n",
       "      <td>...</td>\n",
       "    </tr>\n",
       "    <tr>\n",
       "      <th>609</th>\n",
       "      <td>LP002978</td>\n",
       "      <td>Female</td>\n",
       "      <td>No</td>\n",
       "      <td>0</td>\n",
       "      <td>Graduate</td>\n",
       "      <td>No</td>\n",
       "      <td>2900</td>\n",
       "      <td>0.0</td>\n",
       "      <td>71.0</td>\n",
       "      <td>360.0</td>\n",
       "      <td>1.0</td>\n",
       "      <td>Rural</td>\n",
       "      <td>Y</td>\n",
       "    </tr>\n",
       "    <tr>\n",
       "      <th>610</th>\n",
       "      <td>LP002979</td>\n",
       "      <td>Male</td>\n",
       "      <td>Yes</td>\n",
       "      <td>3+</td>\n",
       "      <td>Graduate</td>\n",
       "      <td>No</td>\n",
       "      <td>4106</td>\n",
       "      <td>0.0</td>\n",
       "      <td>40.0</td>\n",
       "      <td>180.0</td>\n",
       "      <td>1.0</td>\n",
       "      <td>Rural</td>\n",
       "      <td>Y</td>\n",
       "    </tr>\n",
       "    <tr>\n",
       "      <th>611</th>\n",
       "      <td>LP002983</td>\n",
       "      <td>Male</td>\n",
       "      <td>Yes</td>\n",
       "      <td>1</td>\n",
       "      <td>Graduate</td>\n",
       "      <td>No</td>\n",
       "      <td>8072</td>\n",
       "      <td>240.0</td>\n",
       "      <td>253.0</td>\n",
       "      <td>360.0</td>\n",
       "      <td>1.0</td>\n",
       "      <td>Urban</td>\n",
       "      <td>Y</td>\n",
       "    </tr>\n",
       "    <tr>\n",
       "      <th>612</th>\n",
       "      <td>LP002984</td>\n",
       "      <td>Male</td>\n",
       "      <td>Yes</td>\n",
       "      <td>2</td>\n",
       "      <td>Graduate</td>\n",
       "      <td>No</td>\n",
       "      <td>7583</td>\n",
       "      <td>0.0</td>\n",
       "      <td>187.0</td>\n",
       "      <td>360.0</td>\n",
       "      <td>1.0</td>\n",
       "      <td>Urban</td>\n",
       "      <td>Y</td>\n",
       "    </tr>\n",
       "    <tr>\n",
       "      <th>613</th>\n",
       "      <td>LP002990</td>\n",
       "      <td>Female</td>\n",
       "      <td>No</td>\n",
       "      <td>0</td>\n",
       "      <td>Graduate</td>\n",
       "      <td>Yes</td>\n",
       "      <td>4583</td>\n",
       "      <td>0.0</td>\n",
       "      <td>133.0</td>\n",
       "      <td>360.0</td>\n",
       "      <td>0.0</td>\n",
       "      <td>Semiurban</td>\n",
       "      <td>N</td>\n",
       "    </tr>\n",
       "  </tbody>\n",
       "</table>\n",
       "<p>614 rows × 13 columns</p>\n",
       "</div>"
      ],
      "text/plain": [
       "      Loan_ID  Gender Married Dependents     Education Self_Employed  \\\n",
       "0    LP001002    Male      No          0      Graduate            No   \n",
       "1    LP001003    Male     Yes          1      Graduate            No   \n",
       "2    LP001005    Male     Yes          0      Graduate           Yes   \n",
       "3    LP001006    Male     Yes          0  Not Graduate            No   \n",
       "4    LP001008    Male      No          0      Graduate            No   \n",
       "..        ...     ...     ...        ...           ...           ...   \n",
       "609  LP002978  Female      No          0      Graduate            No   \n",
       "610  LP002979    Male     Yes         3+      Graduate            No   \n",
       "611  LP002983    Male     Yes          1      Graduate            No   \n",
       "612  LP002984    Male     Yes          2      Graduate            No   \n",
       "613  LP002990  Female      No          0      Graduate           Yes   \n",
       "\n",
       "     ApplicantIncome  CoapplicantIncome  LoanAmount  Loan_Amount_Term  \\\n",
       "0               5849                0.0         NaN             360.0   \n",
       "1               4583             1508.0       128.0             360.0   \n",
       "2               3000                0.0        66.0             360.0   \n",
       "3               2583             2358.0       120.0             360.0   \n",
       "4               6000                0.0       141.0             360.0   \n",
       "..               ...                ...         ...               ...   \n",
       "609             2900                0.0        71.0             360.0   \n",
       "610             4106                0.0        40.0             180.0   \n",
       "611             8072              240.0       253.0             360.0   \n",
       "612             7583                0.0       187.0             360.0   \n",
       "613             4583                0.0       133.0             360.0   \n",
       "\n",
       "     Credit_History Property_Area Loan_Status  \n",
       "0               1.0         Urban           Y  \n",
       "1               1.0         Rural           N  \n",
       "2               1.0         Urban           Y  \n",
       "3               1.0         Urban           Y  \n",
       "4               1.0         Urban           Y  \n",
       "..              ...           ...         ...  \n",
       "609             1.0         Rural           Y  \n",
       "610             1.0         Rural           Y  \n",
       "611             1.0         Urban           Y  \n",
       "612             1.0         Urban           Y  \n",
       "613             0.0     Semiurban           N  \n",
       "\n",
       "[614 rows x 13 columns]"
      ]
     },
     "execution_count": 516,
     "metadata": {},
     "output_type": "execute_result"
    }
   ],
   "source": [
    "# display the dataset\n",
    "df"
   ]
  },
  {
   "cell_type": "markdown",
   "id": "eea3e073-cea5-4786-a030-4dbb44bd727f",
   "metadata": {},
   "source": [
    "#####  Display the 10 first raws of the data"
   ]
  },
  {
   "cell_type": "code",
   "execution_count": 517,
   "id": "d568bcb4-c5bf-4629-83c8-7e27f76a42e6",
   "metadata": {},
   "outputs": [
    {
     "data": {
      "text/html": [
       "<div>\n",
       "<style scoped>\n",
       "    .dataframe tbody tr th:only-of-type {\n",
       "        vertical-align: middle;\n",
       "    }\n",
       "\n",
       "    .dataframe tbody tr th {\n",
       "        vertical-align: top;\n",
       "    }\n",
       "\n",
       "    .dataframe thead th {\n",
       "        text-align: right;\n",
       "    }\n",
       "</style>\n",
       "<table border=\"1\" class=\"dataframe\">\n",
       "  <thead>\n",
       "    <tr style=\"text-align: right;\">\n",
       "      <th></th>\n",
       "      <th>Loan_ID</th>\n",
       "      <th>Gender</th>\n",
       "      <th>Married</th>\n",
       "      <th>Dependents</th>\n",
       "      <th>Education</th>\n",
       "      <th>Self_Employed</th>\n",
       "      <th>ApplicantIncome</th>\n",
       "      <th>CoapplicantIncome</th>\n",
       "      <th>LoanAmount</th>\n",
       "      <th>Loan_Amount_Term</th>\n",
       "      <th>Credit_History</th>\n",
       "      <th>Property_Area</th>\n",
       "      <th>Loan_Status</th>\n",
       "    </tr>\n",
       "  </thead>\n",
       "  <tbody>\n",
       "    <tr>\n",
       "      <th>0</th>\n",
       "      <td>LP001002</td>\n",
       "      <td>Male</td>\n",
       "      <td>No</td>\n",
       "      <td>0</td>\n",
       "      <td>Graduate</td>\n",
       "      <td>No</td>\n",
       "      <td>5849</td>\n",
       "      <td>0.0</td>\n",
       "      <td>NaN</td>\n",
       "      <td>360.0</td>\n",
       "      <td>1.0</td>\n",
       "      <td>Urban</td>\n",
       "      <td>Y</td>\n",
       "    </tr>\n",
       "    <tr>\n",
       "      <th>1</th>\n",
       "      <td>LP001003</td>\n",
       "      <td>Male</td>\n",
       "      <td>Yes</td>\n",
       "      <td>1</td>\n",
       "      <td>Graduate</td>\n",
       "      <td>No</td>\n",
       "      <td>4583</td>\n",
       "      <td>1508.0</td>\n",
       "      <td>128.0</td>\n",
       "      <td>360.0</td>\n",
       "      <td>1.0</td>\n",
       "      <td>Rural</td>\n",
       "      <td>N</td>\n",
       "    </tr>\n",
       "    <tr>\n",
       "      <th>2</th>\n",
       "      <td>LP001005</td>\n",
       "      <td>Male</td>\n",
       "      <td>Yes</td>\n",
       "      <td>0</td>\n",
       "      <td>Graduate</td>\n",
       "      <td>Yes</td>\n",
       "      <td>3000</td>\n",
       "      <td>0.0</td>\n",
       "      <td>66.0</td>\n",
       "      <td>360.0</td>\n",
       "      <td>1.0</td>\n",
       "      <td>Urban</td>\n",
       "      <td>Y</td>\n",
       "    </tr>\n",
       "    <tr>\n",
       "      <th>3</th>\n",
       "      <td>LP001006</td>\n",
       "      <td>Male</td>\n",
       "      <td>Yes</td>\n",
       "      <td>0</td>\n",
       "      <td>Not Graduate</td>\n",
       "      <td>No</td>\n",
       "      <td>2583</td>\n",
       "      <td>2358.0</td>\n",
       "      <td>120.0</td>\n",
       "      <td>360.0</td>\n",
       "      <td>1.0</td>\n",
       "      <td>Urban</td>\n",
       "      <td>Y</td>\n",
       "    </tr>\n",
       "    <tr>\n",
       "      <th>4</th>\n",
       "      <td>LP001008</td>\n",
       "      <td>Male</td>\n",
       "      <td>No</td>\n",
       "      <td>0</td>\n",
       "      <td>Graduate</td>\n",
       "      <td>No</td>\n",
       "      <td>6000</td>\n",
       "      <td>0.0</td>\n",
       "      <td>141.0</td>\n",
       "      <td>360.0</td>\n",
       "      <td>1.0</td>\n",
       "      <td>Urban</td>\n",
       "      <td>Y</td>\n",
       "    </tr>\n",
       "    <tr>\n",
       "      <th>5</th>\n",
       "      <td>LP001011</td>\n",
       "      <td>Male</td>\n",
       "      <td>Yes</td>\n",
       "      <td>2</td>\n",
       "      <td>Graduate</td>\n",
       "      <td>Yes</td>\n",
       "      <td>5417</td>\n",
       "      <td>4196.0</td>\n",
       "      <td>267.0</td>\n",
       "      <td>360.0</td>\n",
       "      <td>1.0</td>\n",
       "      <td>Urban</td>\n",
       "      <td>Y</td>\n",
       "    </tr>\n",
       "    <tr>\n",
       "      <th>6</th>\n",
       "      <td>LP001013</td>\n",
       "      <td>Male</td>\n",
       "      <td>Yes</td>\n",
       "      <td>0</td>\n",
       "      <td>Not Graduate</td>\n",
       "      <td>No</td>\n",
       "      <td>2333</td>\n",
       "      <td>1516.0</td>\n",
       "      <td>95.0</td>\n",
       "      <td>360.0</td>\n",
       "      <td>1.0</td>\n",
       "      <td>Urban</td>\n",
       "      <td>Y</td>\n",
       "    </tr>\n",
       "    <tr>\n",
       "      <th>7</th>\n",
       "      <td>LP001014</td>\n",
       "      <td>Male</td>\n",
       "      <td>Yes</td>\n",
       "      <td>3+</td>\n",
       "      <td>Graduate</td>\n",
       "      <td>No</td>\n",
       "      <td>3036</td>\n",
       "      <td>2504.0</td>\n",
       "      <td>158.0</td>\n",
       "      <td>360.0</td>\n",
       "      <td>0.0</td>\n",
       "      <td>Semiurban</td>\n",
       "      <td>N</td>\n",
       "    </tr>\n",
       "    <tr>\n",
       "      <th>8</th>\n",
       "      <td>LP001018</td>\n",
       "      <td>Male</td>\n",
       "      <td>Yes</td>\n",
       "      <td>2</td>\n",
       "      <td>Graduate</td>\n",
       "      <td>No</td>\n",
       "      <td>4006</td>\n",
       "      <td>1526.0</td>\n",
       "      <td>168.0</td>\n",
       "      <td>360.0</td>\n",
       "      <td>1.0</td>\n",
       "      <td>Urban</td>\n",
       "      <td>Y</td>\n",
       "    </tr>\n",
       "    <tr>\n",
       "      <th>9</th>\n",
       "      <td>LP001020</td>\n",
       "      <td>Male</td>\n",
       "      <td>Yes</td>\n",
       "      <td>1</td>\n",
       "      <td>Graduate</td>\n",
       "      <td>No</td>\n",
       "      <td>12841</td>\n",
       "      <td>10968.0</td>\n",
       "      <td>349.0</td>\n",
       "      <td>360.0</td>\n",
       "      <td>1.0</td>\n",
       "      <td>Semiurban</td>\n",
       "      <td>N</td>\n",
       "    </tr>\n",
       "  </tbody>\n",
       "</table>\n",
       "</div>"
      ],
      "text/plain": [
       "    Loan_ID Gender Married Dependents     Education Self_Employed  \\\n",
       "0  LP001002   Male      No          0      Graduate            No   \n",
       "1  LP001003   Male     Yes          1      Graduate            No   \n",
       "2  LP001005   Male     Yes          0      Graduate           Yes   \n",
       "3  LP001006   Male     Yes          0  Not Graduate            No   \n",
       "4  LP001008   Male      No          0      Graduate            No   \n",
       "5  LP001011   Male     Yes          2      Graduate           Yes   \n",
       "6  LP001013   Male     Yes          0  Not Graduate            No   \n",
       "7  LP001014   Male     Yes         3+      Graduate            No   \n",
       "8  LP001018   Male     Yes          2      Graduate            No   \n",
       "9  LP001020   Male     Yes          1      Graduate            No   \n",
       "\n",
       "   ApplicantIncome  CoapplicantIncome  LoanAmount  Loan_Amount_Term  \\\n",
       "0             5849                0.0         NaN             360.0   \n",
       "1             4583             1508.0       128.0             360.0   \n",
       "2             3000                0.0        66.0             360.0   \n",
       "3             2583             2358.0       120.0             360.0   \n",
       "4             6000                0.0       141.0             360.0   \n",
       "5             5417             4196.0       267.0             360.0   \n",
       "6             2333             1516.0        95.0             360.0   \n",
       "7             3036             2504.0       158.0             360.0   \n",
       "8             4006             1526.0       168.0             360.0   \n",
       "9            12841            10968.0       349.0             360.0   \n",
       "\n",
       "   Credit_History Property_Area Loan_Status  \n",
       "0             1.0         Urban           Y  \n",
       "1             1.0         Rural           N  \n",
       "2             1.0         Urban           Y  \n",
       "3             1.0         Urban           Y  \n",
       "4             1.0         Urban           Y  \n",
       "5             1.0         Urban           Y  \n",
       "6             1.0         Urban           Y  \n",
       "7             0.0     Semiurban           N  \n",
       "8             1.0         Urban           Y  \n",
       "9             1.0     Semiurban           N  "
      ]
     },
     "execution_count": 517,
     "metadata": {},
     "output_type": "execute_result"
    }
   ],
   "source": [
    "# Display the 10 first raws of the data\n",
    "\n",
    "df.head(10)"
   ]
  },
  {
   "cell_type": "markdown",
   "id": "0de14c34-0116-44cb-8232-e65c8650a128",
   "metadata": {},
   "source": [
    "#####  Display the information about data size"
   ]
  },
  {
   "cell_type": "code",
   "execution_count": 518,
   "id": "e7d63e20-fee4-4218-be36-851ce7253851",
   "metadata": {},
   "outputs": [
    {
     "data": {
      "text/plain": [
       "(614, 13)"
      ]
     },
     "execution_count": 518,
     "metadata": {},
     "output_type": "execute_result"
    }
   ],
   "source": [
    "# Get the data size\n",
    "\n",
    "df.shape"
   ]
  },
  {
   "cell_type": "markdown",
   "id": "8db997dd-b380-472f-8e2c-0d0815d21498",
   "metadata": {},
   "source": [
    "The dataset has 614 raws and 13 columns. "
   ]
  },
  {
   "cell_type": "markdown",
   "id": "aaf4bfb7-f4c1-498c-8fe0-85d5ae2c881f",
   "metadata": {},
   "source": [
    "#####    Display the informations about data (Differents columns, Missing Values, Datatypes)\n",
    "\n"
   ]
  },
  {
   "cell_type": "code",
   "execution_count": 519,
   "id": "cf6803ba-309c-429f-8c14-b1792f375f47",
   "metadata": {},
   "outputs": [
    {
     "name": "stdout",
     "output_type": "stream",
     "text": [
      "<class 'pandas.core.frame.DataFrame'>\n",
      "RangeIndex: 614 entries, 0 to 613\n",
      "Data columns (total 13 columns):\n",
      " #   Column             Non-Null Count  Dtype  \n",
      "---  ------             --------------  -----  \n",
      " 0   Loan_ID            614 non-null    object \n",
      " 1   Gender             601 non-null    object \n",
      " 2   Married            611 non-null    object \n",
      " 3   Dependents         599 non-null    object \n",
      " 4   Education          614 non-null    object \n",
      " 5   Self_Employed      582 non-null    object \n",
      " 6   ApplicantIncome    614 non-null    int64  \n",
      " 7   CoapplicantIncome  614 non-null    float64\n",
      " 8   LoanAmount         592 non-null    float64\n",
      " 9   Loan_Amount_Term   600 non-null    float64\n",
      " 10  Credit_History     564 non-null    float64\n",
      " 11  Property_Area      614 non-null    object \n",
      " 12  Loan_Status        614 non-null    object \n",
      "dtypes: float64(4), int64(1), object(8)\n",
      "memory usage: 62.5+ KB\n"
     ]
    }
   ],
   "source": [
    "# Get the basics informations about data\n",
    "df.info()"
   ]
  },
  {
   "cell_type": "markdown",
   "id": "c1e37d64-4dcf-4371-bc86-7c7f1d27b00a",
   "metadata": {},
   "source": [
    "#####  Display the summary statistics (Numerical values)"
   ]
  },
  {
   "cell_type": "code",
   "execution_count": 520,
   "id": "e7904fb2-764f-4246-8174-951265976d22",
   "metadata": {},
   "outputs": [
    {
     "data": {
      "text/html": [
       "<div>\n",
       "<style scoped>\n",
       "    .dataframe tbody tr th:only-of-type {\n",
       "        vertical-align: middle;\n",
       "    }\n",
       "\n",
       "    .dataframe tbody tr th {\n",
       "        vertical-align: top;\n",
       "    }\n",
       "\n",
       "    .dataframe thead th {\n",
       "        text-align: right;\n",
       "    }\n",
       "</style>\n",
       "<table border=\"1\" class=\"dataframe\">\n",
       "  <thead>\n",
       "    <tr style=\"text-align: right;\">\n",
       "      <th></th>\n",
       "      <th>ApplicantIncome</th>\n",
       "      <th>CoapplicantIncome</th>\n",
       "      <th>LoanAmount</th>\n",
       "      <th>Loan_Amount_Term</th>\n",
       "      <th>Credit_History</th>\n",
       "    </tr>\n",
       "  </thead>\n",
       "  <tbody>\n",
       "    <tr>\n",
       "      <th>count</th>\n",
       "      <td>614.000000</td>\n",
       "      <td>614.000000</td>\n",
       "      <td>592.000000</td>\n",
       "      <td>600.00000</td>\n",
       "      <td>564.000000</td>\n",
       "    </tr>\n",
       "    <tr>\n",
       "      <th>mean</th>\n",
       "      <td>5403.459283</td>\n",
       "      <td>1621.245798</td>\n",
       "      <td>146.412162</td>\n",
       "      <td>342.00000</td>\n",
       "      <td>0.842199</td>\n",
       "    </tr>\n",
       "    <tr>\n",
       "      <th>std</th>\n",
       "      <td>6109.041673</td>\n",
       "      <td>2926.248369</td>\n",
       "      <td>85.587325</td>\n",
       "      <td>65.12041</td>\n",
       "      <td>0.364878</td>\n",
       "    </tr>\n",
       "    <tr>\n",
       "      <th>min</th>\n",
       "      <td>150.000000</td>\n",
       "      <td>0.000000</td>\n",
       "      <td>9.000000</td>\n",
       "      <td>12.00000</td>\n",
       "      <td>0.000000</td>\n",
       "    </tr>\n",
       "    <tr>\n",
       "      <th>25%</th>\n",
       "      <td>2877.500000</td>\n",
       "      <td>0.000000</td>\n",
       "      <td>100.000000</td>\n",
       "      <td>360.00000</td>\n",
       "      <td>1.000000</td>\n",
       "    </tr>\n",
       "    <tr>\n",
       "      <th>50%</th>\n",
       "      <td>3812.500000</td>\n",
       "      <td>1188.500000</td>\n",
       "      <td>128.000000</td>\n",
       "      <td>360.00000</td>\n",
       "      <td>1.000000</td>\n",
       "    </tr>\n",
       "    <tr>\n",
       "      <th>75%</th>\n",
       "      <td>5795.000000</td>\n",
       "      <td>2297.250000</td>\n",
       "      <td>168.000000</td>\n",
       "      <td>360.00000</td>\n",
       "      <td>1.000000</td>\n",
       "    </tr>\n",
       "    <tr>\n",
       "      <th>max</th>\n",
       "      <td>81000.000000</td>\n",
       "      <td>41667.000000</td>\n",
       "      <td>700.000000</td>\n",
       "      <td>480.00000</td>\n",
       "      <td>1.000000</td>\n",
       "    </tr>\n",
       "  </tbody>\n",
       "</table>\n",
       "</div>"
      ],
      "text/plain": [
       "       ApplicantIncome  CoapplicantIncome  LoanAmount  Loan_Amount_Term  \\\n",
       "count       614.000000         614.000000  592.000000         600.00000   \n",
       "mean       5403.459283        1621.245798  146.412162         342.00000   \n",
       "std        6109.041673        2926.248369   85.587325          65.12041   \n",
       "min         150.000000           0.000000    9.000000          12.00000   \n",
       "25%        2877.500000           0.000000  100.000000         360.00000   \n",
       "50%        3812.500000        1188.500000  128.000000         360.00000   \n",
       "75%        5795.000000        2297.250000  168.000000         360.00000   \n",
       "max       81000.000000       41667.000000  700.000000         480.00000   \n",
       "\n",
       "       Credit_History  \n",
       "count      564.000000  \n",
       "mean         0.842199  \n",
       "std          0.364878  \n",
       "min          0.000000  \n",
       "25%          1.000000  \n",
       "50%          1.000000  \n",
       "75%          1.000000  \n",
       "max          1.000000  "
      ]
     },
     "execution_count": 520,
     "metadata": {},
     "output_type": "execute_result"
    }
   ],
   "source": [
    "# Get the summary statistics\n",
    "df.describe()"
   ]
  },
  {
   "cell_type": "markdown",
   "id": "bde5f4d8-9d0e-4656-addf-1fbfb1585c13",
   "metadata": {},
   "source": [
    "#####   Display the summary statistics (Categorical values)"
   ]
  },
  {
   "cell_type": "code",
   "execution_count": 521,
   "id": "2d103dcb-77d6-4bcc-bc00-2ff5445caba9",
   "metadata": {},
   "outputs": [
    {
     "data": {
      "text/html": [
       "<div>\n",
       "<style scoped>\n",
       "    .dataframe tbody tr th:only-of-type {\n",
       "        vertical-align: middle;\n",
       "    }\n",
       "\n",
       "    .dataframe tbody tr th {\n",
       "        vertical-align: top;\n",
       "    }\n",
       "\n",
       "    .dataframe thead th {\n",
       "        text-align: right;\n",
       "    }\n",
       "</style>\n",
       "<table border=\"1\" class=\"dataframe\">\n",
       "  <thead>\n",
       "    <tr style=\"text-align: right;\">\n",
       "      <th></th>\n",
       "      <th>Loan_ID</th>\n",
       "      <th>Gender</th>\n",
       "      <th>Married</th>\n",
       "      <th>Dependents</th>\n",
       "      <th>Education</th>\n",
       "      <th>Self_Employed</th>\n",
       "      <th>Property_Area</th>\n",
       "      <th>Loan_Status</th>\n",
       "    </tr>\n",
       "  </thead>\n",
       "  <tbody>\n",
       "    <tr>\n",
       "      <th>count</th>\n",
       "      <td>614</td>\n",
       "      <td>601</td>\n",
       "      <td>611</td>\n",
       "      <td>599</td>\n",
       "      <td>614</td>\n",
       "      <td>582</td>\n",
       "      <td>614</td>\n",
       "      <td>614</td>\n",
       "    </tr>\n",
       "    <tr>\n",
       "      <th>unique</th>\n",
       "      <td>614</td>\n",
       "      <td>2</td>\n",
       "      <td>2</td>\n",
       "      <td>4</td>\n",
       "      <td>2</td>\n",
       "      <td>2</td>\n",
       "      <td>3</td>\n",
       "      <td>2</td>\n",
       "    </tr>\n",
       "    <tr>\n",
       "      <th>top</th>\n",
       "      <td>LP001002</td>\n",
       "      <td>Male</td>\n",
       "      <td>Yes</td>\n",
       "      <td>0</td>\n",
       "      <td>Graduate</td>\n",
       "      <td>No</td>\n",
       "      <td>Semiurban</td>\n",
       "      <td>Y</td>\n",
       "    </tr>\n",
       "    <tr>\n",
       "      <th>freq</th>\n",
       "      <td>1</td>\n",
       "      <td>489</td>\n",
       "      <td>398</td>\n",
       "      <td>345</td>\n",
       "      <td>480</td>\n",
       "      <td>500</td>\n",
       "      <td>233</td>\n",
       "      <td>422</td>\n",
       "    </tr>\n",
       "  </tbody>\n",
       "</table>\n",
       "</div>"
      ],
      "text/plain": [
       "         Loan_ID Gender Married Dependents Education Self_Employed  \\\n",
       "count        614    601     611        599       614           582   \n",
       "unique       614      2       2          4         2             2   \n",
       "top     LP001002   Male     Yes          0  Graduate            No   \n",
       "freq           1    489     398        345       480           500   \n",
       "\n",
       "       Property_Area Loan_Status  \n",
       "count            614         614  \n",
       "unique             3           2  \n",
       "top        Semiurban           Y  \n",
       "freq             233         422  "
      ]
     },
     "execution_count": 521,
     "metadata": {},
     "output_type": "execute_result"
    }
   ],
   "source": [
    "# Get the summary statistics\n",
    "df.describe(include ='O')"
   ]
  },
  {
   "cell_type": "markdown",
   "id": "2480298c-f591-45ec-942b-a38657e38d26",
   "metadata": {},
   "source": [
    "##### Loan_ID column is not important"
   ]
  },
  {
   "cell_type": "code",
   "execution_count": 522,
   "id": "f592a7de-bc81-448d-a5bb-f3683838c0b9",
   "metadata": {},
   "outputs": [],
   "source": [
    "# Delete Loan_ID column\n",
    "df.drop(['Loan_ID'], axis = 1, inplace = True)"
   ]
  },
  {
   "cell_type": "markdown",
   "id": "dfa695f0-e268-401c-856a-333c18f464a2",
   "metadata": {},
   "source": [
    "\n",
    "\n",
    "\n",
    "#####  Check and handle the missing values"
   ]
  },
  {
   "cell_type": "code",
   "execution_count": 523,
   "id": "2ee0e01f-0763-43cf-9a7f-c0cc555d0410",
   "metadata": {},
   "outputs": [
    {
     "data": {
      "text/plain": [
       "Credit_History       50\n",
       "Self_Employed        32\n",
       "LoanAmount           22\n",
       "Dependents           15\n",
       "Loan_Amount_Term     14\n",
       "Gender               13\n",
       "Married               3\n",
       "Education             0\n",
       "ApplicantIncome       0\n",
       "CoapplicantIncome     0\n",
       "Property_Area         0\n",
       "Loan_Status           0\n",
       "dtype: int64"
      ]
     },
     "execution_count": 523,
     "metadata": {},
     "output_type": "execute_result"
    }
   ],
   "source": [
    "# Check the missing values\n",
    "\n",
    "df.isnull().sum().sort_values(ascending = False)"
   ]
  },
  {
   "cell_type": "code",
   "execution_count": 524,
   "id": "e8d833fc-d7a9-49e0-8ac2-796824b60c88",
   "metadata": {},
   "outputs": [
    {
     "data": {
      "text/plain": [
       "<Axes: >"
      ]
     },
     "execution_count": 524,
     "metadata": {},
     "output_type": "execute_result"
    },
    {
     "data": {
      "image/png": "[encoded data removed]",
      "text/plain": [
       "<Figure size 640x480 with 1 Axes>"
      ]
     },
     "metadata": {},
     "output_type": "display_data"
    }
   ],
   "source": [
    "# Using a chart to display the missing values\n",
    "\n",
    "sns.heatmap(df.isnull(), yticklabels = False, cbar = False, cmap = 'viridis')"
   ]
  },
  {
   "cell_type": "markdown",
   "id": "54a8848f-3fc3-469e-95fe-64c5dc76f93d",
   "metadata": {},
   "source": [
    "For handle the missing values, we are going to split the data into numerical values and categorical values and :\n",
    "- For the categorical values, each missing value will be replaced by the most frequent value (mode).\n",
    "- We are going to use backward filling method for the numerical values"
   ]
  },
  {
   "cell_type": "code",
   "execution_count": 525,
   "id": "d95b70e2-609d-4ee9-b229-a4f1fc4f6c9b",
   "metadata": {},
   "outputs": [],
   "source": [
    " # Plitting the data into numerical and categorical values\n",
    "\n",
    "cat_data = []\n",
    "num_data = []\n",
    "for i,c in enumerate(df.dtypes):\n",
    "    if c == object:\n",
    "        cat_data.append(df.iloc[:,i])\n",
    "    else:\n",
    "        num_data.append(df.iloc[:,i])\n",
    "# Because Cat_data and num_data are the lists, this code will transform it into database\n",
    "cat_data = pd.DataFrame(cat_data).transpose()\n",
    "num_data = pd.DataFrame(num_data).transpose()"
   ]
  },
  {
   "cell_type": "code",
   "execution_count": 526,
   "id": "354ce6d4-eba4-4f5f-85a3-1476b040342a",
   "metadata": {},
   "outputs": [
    {
     "data": {
      "text/html": [
       "<div>\n",
       "<style scoped>\n",
       "    .dataframe tbody tr th:only-of-type {\n",
       "        vertical-align: middle;\n",
       "    }\n",
       "\n",
       "    .dataframe tbody tr th {\n",
       "        vertical-align: top;\n",
       "    }\n",
       "\n",
       "    .dataframe thead th {\n",
       "        text-align: right;\n",
       "    }\n",
       "</style>\n",
       "<table border=\"1\" class=\"dataframe\">\n",
       "  <thead>\n",
       "    <tr style=\"text-align: right;\">\n",
       "      <th></th>\n",
       "      <th>Gender</th>\n",
       "      <th>Married</th>\n",
       "      <th>Dependents</th>\n",
       "      <th>Education</th>\n",
       "      <th>Self_Employed</th>\n",
       "      <th>Property_Area</th>\n",
       "      <th>Loan_Status</th>\n",
       "    </tr>\n",
       "  </thead>\n",
       "  <tbody>\n",
       "    <tr>\n",
       "      <th>0</th>\n",
       "      <td>Male</td>\n",
       "      <td>No</td>\n",
       "      <td>0</td>\n",
       "      <td>Graduate</td>\n",
       "      <td>No</td>\n",
       "      <td>Urban</td>\n",
       "      <td>Y</td>\n",
       "    </tr>\n",
       "    <tr>\n",
       "      <th>1</th>\n",
       "      <td>Male</td>\n",
       "      <td>Yes</td>\n",
       "      <td>1</td>\n",
       "      <td>Graduate</td>\n",
       "      <td>No</td>\n",
       "      <td>Rural</td>\n",
       "      <td>N</td>\n",
       "    </tr>\n",
       "    <tr>\n",
       "      <th>2</th>\n",
       "      <td>Male</td>\n",
       "      <td>Yes</td>\n",
       "      <td>0</td>\n",
       "      <td>Graduate</td>\n",
       "      <td>Yes</td>\n",
       "      <td>Urban</td>\n",
       "      <td>Y</td>\n",
       "    </tr>\n",
       "    <tr>\n",
       "      <th>3</th>\n",
       "      <td>Male</td>\n",
       "      <td>Yes</td>\n",
       "      <td>0</td>\n",
       "      <td>Not Graduate</td>\n",
       "      <td>No</td>\n",
       "      <td>Urban</td>\n",
       "      <td>Y</td>\n",
       "    </tr>\n",
       "    <tr>\n",
       "      <th>4</th>\n",
       "      <td>Male</td>\n",
       "      <td>No</td>\n",
       "      <td>0</td>\n",
       "      <td>Graduate</td>\n",
       "      <td>No</td>\n",
       "      <td>Urban</td>\n",
       "      <td>Y</td>\n",
       "    </tr>\n",
       "    <tr>\n",
       "      <th>...</th>\n",
       "      <td>...</td>\n",
       "      <td>...</td>\n",
       "      <td>...</td>\n",
       "      <td>...</td>\n",
       "      <td>...</td>\n",
       "      <td>...</td>\n",
       "      <td>...</td>\n",
       "    </tr>\n",
       "    <tr>\n",
       "      <th>609</th>\n",
       "      <td>Female</td>\n",
       "      <td>No</td>\n",
       "      <td>0</td>\n",
       "      <td>Graduate</td>\n",
       "      <td>No</td>\n",
       "      <td>Rural</td>\n",
       "      <td>Y</td>\n",
       "    </tr>\n",
       "    <tr>\n",
       "      <th>610</th>\n",
       "      <td>Male</td>\n",
       "      <td>Yes</td>\n",
       "      <td>3+</td>\n",
       "      <td>Graduate</td>\n",
       "      <td>No</td>\n",
       "      <td>Rural</td>\n",
       "      <td>Y</td>\n",
       "    </tr>\n",
       "    <tr>\n",
       "      <th>611</th>\n",
       "      <td>Male</td>\n",
       "      <td>Yes</td>\n",
       "      <td>1</td>\n",
       "      <td>Graduate</td>\n",
       "      <td>No</td>\n",
       "      <td>Urban</td>\n",
       "      <td>Y</td>\n",
       "    </tr>\n",
       "    <tr>\n",
       "      <th>612</th>\n",
       "      <td>Male</td>\n",
       "      <td>Yes</td>\n",
       "      <td>2</td>\n",
       "      <td>Graduate</td>\n",
       "      <td>No</td>\n",
       "      <td>Urban</td>\n",
       "      <td>Y</td>\n",
       "    </tr>\n",
       "    <tr>\n",
       "      <th>613</th>\n",
       "      <td>Female</td>\n",
       "      <td>No</td>\n",
       "      <td>0</td>\n",
       "      <td>Graduate</td>\n",
       "      <td>Yes</td>\n",
       "      <td>Semiurban</td>\n",
       "      <td>N</td>\n",
       "    </tr>\n",
       "  </tbody>\n",
       "</table>\n",
       "<p>614 rows × 7 columns</p>\n",
       "</div>"
      ],
      "text/plain": [
       "     Gender Married Dependents     Education Self_Employed Property_Area  \\\n",
       "0      Male      No          0      Graduate            No         Urban   \n",
       "1      Male     Yes          1      Graduate            No         Rural   \n",
       "2      Male     Yes          0      Graduate           Yes         Urban   \n",
       "3      Male     Yes          0  Not Graduate            No         Urban   \n",
       "4      Male      No          0      Graduate            No         Urban   \n",
       "..      ...     ...        ...           ...           ...           ...   \n",
       "609  Female      No          0      Graduate            No         Rural   \n",
       "610    Male     Yes         3+      Graduate            No         Rural   \n",
       "611    Male     Yes          1      Graduate            No         Urban   \n",
       "612    Male     Yes          2      Graduate            No         Urban   \n",
       "613  Female      No          0      Graduate           Yes     Semiurban   \n",
       "\n",
       "    Loan_Status  \n",
       "0             Y  \n",
       "1             N  \n",
       "2             Y  \n",
       "3             Y  \n",
       "4             Y  \n",
       "..          ...  \n",
       "609           Y  \n",
       "610           Y  \n",
       "611           Y  \n",
       "612           Y  \n",
       "613           N  \n",
       "\n",
       "[614 rows x 7 columns]"
      ]
     },
     "execution_count": 526,
     "metadata": {},
     "output_type": "execute_result"
    }
   ],
   "source": [
    "# Display the categorical values (cat_data). \n",
    "cat_data\n"
   ]
  },
  {
   "cell_type": "code",
   "execution_count": 527,
   "id": "ecbcb66a-450e-4478-a6e5-795dc6313bcb",
   "metadata": {},
   "outputs": [
    {
     "data": {
      "text/html": [
       "<div>\n",
       "<style scoped>\n",
       "    .dataframe tbody tr th:only-of-type {\n",
       "        vertical-align: middle;\n",
       "    }\n",
       "\n",
       "    .dataframe tbody tr th {\n",
       "        vertical-align: top;\n",
       "    }\n",
       "\n",
       "    .dataframe thead th {\n",
       "        text-align: right;\n",
       "    }\n",
       "</style>\n",
       "<table border=\"1\" class=\"dataframe\">\n",
       "  <thead>\n",
       "    <tr style=\"text-align: right;\">\n",
       "      <th></th>\n",
       "      <th>ApplicantIncome</th>\n",
       "      <th>CoapplicantIncome</th>\n",
       "      <th>LoanAmount</th>\n",
       "      <th>Loan_Amount_Term</th>\n",
       "      <th>Credit_History</th>\n",
       "    </tr>\n",
       "  </thead>\n",
       "  <tbody>\n",
       "    <tr>\n",
       "      <th>0</th>\n",
       "      <td>5849.0</td>\n",
       "      <td>0.0</td>\n",
       "      <td>NaN</td>\n",
       "      <td>360.0</td>\n",
       "      <td>1.0</td>\n",
       "    </tr>\n",
       "    <tr>\n",
       "      <th>1</th>\n",
       "      <td>4583.0</td>\n",
       "      <td>1508.0</td>\n",
       "      <td>128.0</td>\n",
       "      <td>360.0</td>\n",
       "      <td>1.0</td>\n",
       "    </tr>\n",
       "    <tr>\n",
       "      <th>2</th>\n",
       "      <td>3000.0</td>\n",
       "      <td>0.0</td>\n",
       "      <td>66.0</td>\n",
       "      <td>360.0</td>\n",
       "      <td>1.0</td>\n",
       "    </tr>\n",
       "    <tr>\n",
       "      <th>3</th>\n",
       "      <td>2583.0</td>\n",
       "      <td>2358.0</td>\n",
       "      <td>120.0</td>\n",
       "      <td>360.0</td>\n",
       "      <td>1.0</td>\n",
       "    </tr>\n",
       "    <tr>\n",
       "      <th>4</th>\n",
       "      <td>6000.0</td>\n",
       "      <td>0.0</td>\n",
       "      <td>141.0</td>\n",
       "      <td>360.0</td>\n",
       "      <td>1.0</td>\n",
       "    </tr>\n",
       "    <tr>\n",
       "      <th>...</th>\n",
       "      <td>...</td>\n",
       "      <td>...</td>\n",
       "      <td>...</td>\n",
       "      <td>...</td>\n",
       "      <td>...</td>\n",
       "    </tr>\n",
       "    <tr>\n",
       "      <th>609</th>\n",
       "      <td>2900.0</td>\n",
       "      <td>0.0</td>\n",
       "      <td>71.0</td>\n",
       "      <td>360.0</td>\n",
       "      <td>1.0</td>\n",
       "    </tr>\n",
       "    <tr>\n",
       "      <th>610</th>\n",
       "      <td>4106.0</td>\n",
       "      <td>0.0</td>\n",
       "      <td>40.0</td>\n",
       "      <td>180.0</td>\n",
       "      <td>1.0</td>\n",
       "    </tr>\n",
       "    <tr>\n",
       "      <th>611</th>\n",
       "      <td>8072.0</td>\n",
       "      <td>240.0</td>\n",
       "      <td>253.0</td>\n",
       "      <td>360.0</td>\n",
       "      <td>1.0</td>\n",
       "    </tr>\n",
       "    <tr>\n",
       "      <th>612</th>\n",
       "      <td>7583.0</td>\n",
       "      <td>0.0</td>\n",
       "      <td>187.0</td>\n",
       "      <td>360.0</td>\n",
       "      <td>1.0</td>\n",
       "    </tr>\n",
       "    <tr>\n",
       "      <th>613</th>\n",
       "      <td>4583.0</td>\n",
       "      <td>0.0</td>\n",
       "      <td>133.0</td>\n",
       "      <td>360.0</td>\n",
       "      <td>0.0</td>\n",
       "    </tr>\n",
       "  </tbody>\n",
       "</table>\n",
       "<p>614 rows × 5 columns</p>\n",
       "</div>"
      ],
      "text/plain": [
       "     ApplicantIncome  CoapplicantIncome  LoanAmount  Loan_Amount_Term  \\\n",
       "0             5849.0                0.0         NaN             360.0   \n",
       "1             4583.0             1508.0       128.0             360.0   \n",
       "2             3000.0                0.0        66.0             360.0   \n",
       "3             2583.0             2358.0       120.0             360.0   \n",
       "4             6000.0                0.0       141.0             360.0   \n",
       "..               ...                ...         ...               ...   \n",
       "609           2900.0                0.0        71.0             360.0   \n",
       "610           4106.0                0.0        40.0             180.0   \n",
       "611           8072.0              240.0       253.0             360.0   \n",
       "612           7583.0                0.0       187.0             360.0   \n",
       "613           4583.0                0.0       133.0             360.0   \n",
       "\n",
       "     Credit_History  \n",
       "0               1.0  \n",
       "1               1.0  \n",
       "2               1.0  \n",
       "3               1.0  \n",
       "4               1.0  \n",
       "..              ...  \n",
       "609             1.0  \n",
       "610             1.0  \n",
       "611             1.0  \n",
       "612             1.0  \n",
       "613             0.0  \n",
       "\n",
       "[614 rows x 5 columns]"
      ]
     },
     "execution_count": 527,
     "metadata": {},
     "output_type": "execute_result"
    }
   ],
   "source": [
    "# Display the numerical values (num_data).\n",
    "num_data"
   ]
  },
  {
   "cell_type": "code",
   "execution_count": 528,
   "id": "86594ad4-ff70-40e0-84a8-8aecba1c2397",
   "metadata": {},
   "outputs": [
    {
     "data": {
      "text/plain": [
       "False"
      ]
     },
     "execution_count": 528,
     "metadata": {},
     "output_type": "execute_result"
    }
   ],
   "source": [
    "# Filling the missing values into the categorical data (cat_data)\n",
    "cat_data = cat_data.apply(lambda x:x.fillna (x.value_counts().index[0]))\n",
    "# Ckeck the missing values into Cat_data\n",
    "cat_data.isnull().sum().any()"
   ]
  },
  {
   "cell_type": "code",
   "execution_count": 529,
   "id": "77d2a0a9-407d-4738-977d-324c2b4e4c19",
   "metadata": {},
   "outputs": [
    {
     "name": "stderr",
     "output_type": "stream",
     "text": [
      "C:\\Users\\12409\\AppData\\Local\\Temp\\ipykernel_13752\\3097393302.py:2: FutureWarning: DataFrame.fillna with 'method' is deprecated and will raise in a future version. Use obj.ffill() or obj.bfill() instead.\n",
      "  num_data.fillna(method = 'bfill', inplace = True)\n"
     ]
    },
    {
     "data": {
      "text/plain": [
       "False"
      ]
     },
     "execution_count": 529,
     "metadata": {},
     "output_type": "execute_result"
    }
   ],
   "source": [
    "# Using backward filling to fill missing values into num_data\n",
    "num_data.fillna(method = 'bfill', inplace = True)\n",
    "# Ckeck the missing values into num_data\n",
    "num_data.isnull().sum().any()"
   ]
  },
  {
   "cell_type": "markdown",
   "id": "5cf48d2c-cb4f-434a-9ecd-f0c902aba229",
   "metadata": {},
   "source": [
    "Awesome, everything looks great! No more missing values"
   ]
  },
  {
   "cell_type": "markdown",
   "id": "2c9eeffa-c65f-4de9-9894-d689d9e8748f",
   "metadata": {},
   "source": [
    "#####  Check For and handle duplicates values"
   ]
  },
  {
   "cell_type": "code",
   "execution_count": 530,
   "id": "6b82a08c-1ee5-4c83-a87a-54ef5cf48265",
   "metadata": {},
   "outputs": [
    {
     "data": {
      "text/plain": [
       "0"
      ]
     },
     "execution_count": 530,
     "metadata": {},
     "output_type": "execute_result"
    }
   ],
   "source": [
    "# Check for duplicates\n",
    "df.duplicated().sum()"
   ]
  },
  {
   "cell_type": "markdown",
   "id": "5b98ff16-9586-4667-bb5e-ef2b3f4eb70f",
   "metadata": {},
   "source": [
    "There are not duplicates value"
   ]
  },
  {
   "cell_type": "markdown",
   "id": "6538b258-5eef-4fdf-a343-08b2e771d8c4",
   "metadata": {},
   "source": [
    "##### Check Class Balance"
   ]
  },
  {
   "cell_type": "code",
   "execution_count": 531,
   "id": "ece23aed-6a14-42c6-8ae4-f643efd94eb4",
   "metadata": {},
   "outputs": [
    {
     "data": {
      "text/plain": [
       "Loan_Status\n",
       "Y    0.687296\n",
       "N    0.312704\n",
       "Name: proportion, dtype: float64"
      ]
     },
     "execution_count": 531,
     "metadata": {},
     "output_type": "execute_result"
    }
   ],
   "source": [
    "# Check class balance\n",
    "\n",
    "df['Loan_Status'].value_counts(normalize = True)"
   ]
  },
  {
   "cell_type": "markdown",
   "id": "ef707894-c346-4704-b06f-5d11296d6892",
   "metadata": {},
   "source": [
    "Approximately 69 % of the dataset represents videos posted by unverified accounts and 31 % represents videos posted by verified accounts. So the outcome variable is not too imbalanced."
   ]
  },
  {
   "cell_type": "markdown",
   "id": "1d101a74-07ae-42d1-b5b2-4a3034b3b6d5",
   "metadata": {},
   "source": [
    "##### Encode the variables"
   ]
  },
  {
   "cell_type": "code",
   "execution_count": 532,
   "id": "2def4ce4-71c1-489a-bfd0-80e5faac6440",
   "metadata": {},
   "outputs": [],
   "source": [
    "# Encode the dependent variable\n",
    "cat_data['Loan_Status'] = cat_data['Loan_Status'].map({'Y': 1,'N': 0})\n"
   ]
  },
  {
   "cell_type": "code",
   "execution_count": 533,
   "id": "31f272e7-0ddd-449d-950d-048c68325ed5",
   "metadata": {},
   "outputs": [
    {
     "data": {
      "text/html": [
       "<div>\n",
       "<style scoped>\n",
       "    .dataframe tbody tr th:only-of-type {\n",
       "        vertical-align: middle;\n",
       "    }\n",
       "\n",
       "    .dataframe tbody tr th {\n",
       "        vertical-align: top;\n",
       "    }\n",
       "\n",
       "    .dataframe thead th {\n",
       "        text-align: right;\n",
       "    }\n",
       "</style>\n",
       "<table border=\"1\" class=\"dataframe\">\n",
       "  <thead>\n",
       "    <tr style=\"text-align: right;\">\n",
       "      <th></th>\n",
       "      <th>Gender</th>\n",
       "      <th>Married</th>\n",
       "      <th>Dependents</th>\n",
       "      <th>Education</th>\n",
       "      <th>Self_Employed</th>\n",
       "      <th>Property_Area</th>\n",
       "      <th>Loan_Status</th>\n",
       "    </tr>\n",
       "  </thead>\n",
       "  <tbody>\n",
       "    <tr>\n",
       "      <th>0</th>\n",
       "      <td>Male</td>\n",
       "      <td>No</td>\n",
       "      <td>0</td>\n",
       "      <td>Graduate</td>\n",
       "      <td>No</td>\n",
       "      <td>Urban</td>\n",
       "      <td>1</td>\n",
       "    </tr>\n",
       "    <tr>\n",
       "      <th>1</th>\n",
       "      <td>Male</td>\n",
       "      <td>Yes</td>\n",
       "      <td>1</td>\n",
       "      <td>Graduate</td>\n",
       "      <td>No</td>\n",
       "      <td>Rural</td>\n",
       "      <td>0</td>\n",
       "    </tr>\n",
       "    <tr>\n",
       "      <th>2</th>\n",
       "      <td>Male</td>\n",
       "      <td>Yes</td>\n",
       "      <td>0</td>\n",
       "      <td>Graduate</td>\n",
       "      <td>Yes</td>\n",
       "      <td>Urban</td>\n",
       "      <td>1</td>\n",
       "    </tr>\n",
       "    <tr>\n",
       "      <th>3</th>\n",
       "      <td>Male</td>\n",
       "      <td>Yes</td>\n",
       "      <td>0</td>\n",
       "      <td>Not Graduate</td>\n",
       "      <td>No</td>\n",
       "      <td>Urban</td>\n",
       "      <td>1</td>\n",
       "    </tr>\n",
       "    <tr>\n",
       "      <th>4</th>\n",
       "      <td>Male</td>\n",
       "      <td>No</td>\n",
       "      <td>0</td>\n",
       "      <td>Graduate</td>\n",
       "      <td>No</td>\n",
       "      <td>Urban</td>\n",
       "      <td>1</td>\n",
       "    </tr>\n",
       "    <tr>\n",
       "      <th>...</th>\n",
       "      <td>...</td>\n",
       "      <td>...</td>\n",
       "      <td>...</td>\n",
       "      <td>...</td>\n",
       "      <td>...</td>\n",
       "      <td>...</td>\n",
       "      <td>...</td>\n",
       "    </tr>\n",
       "    <tr>\n",
       "      <th>609</th>\n",
       "      <td>Female</td>\n",
       "      <td>No</td>\n",
       "      <td>0</td>\n",
       "      <td>Graduate</td>\n",
       "      <td>No</td>\n",
       "      <td>Rural</td>\n",
       "      <td>1</td>\n",
       "    </tr>\n",
       "    <tr>\n",
       "      <th>610</th>\n",
       "      <td>Male</td>\n",
       "      <td>Yes</td>\n",
       "      <td>3+</td>\n",
       "      <td>Graduate</td>\n",
       "      <td>No</td>\n",
       "      <td>Rural</td>\n",
       "      <td>1</td>\n",
       "    </tr>\n",
       "    <tr>\n",
       "      <th>611</th>\n",
       "      <td>Male</td>\n",
       "      <td>Yes</td>\n",
       "      <td>1</td>\n",
       "      <td>Graduate</td>\n",
       "      <td>No</td>\n",
       "      <td>Urban</td>\n",
       "      <td>1</td>\n",
       "    </tr>\n",
       "    <tr>\n",
       "      <th>612</th>\n",
       "      <td>Male</td>\n",
       "      <td>Yes</td>\n",
       "      <td>2</td>\n",
       "      <td>Graduate</td>\n",
       "      <td>No</td>\n",
       "      <td>Urban</td>\n",
       "      <td>1</td>\n",
       "    </tr>\n",
       "    <tr>\n",
       "      <th>613</th>\n",
       "      <td>Female</td>\n",
       "      <td>No</td>\n",
       "      <td>0</td>\n",
       "      <td>Graduate</td>\n",
       "      <td>Yes</td>\n",
       "      <td>Semiurban</td>\n",
       "      <td>0</td>\n",
       "    </tr>\n",
       "  </tbody>\n",
       "</table>\n",
       "<p>614 rows × 7 columns</p>\n",
       "</div>"
      ],
      "text/plain": [
       "     Gender Married Dependents     Education Self_Employed Property_Area  \\\n",
       "0      Male      No          0      Graduate            No         Urban   \n",
       "1      Male     Yes          1      Graduate            No         Rural   \n",
       "2      Male     Yes          0      Graduate           Yes         Urban   \n",
       "3      Male     Yes          0  Not Graduate            No         Urban   \n",
       "4      Male      No          0      Graduate            No         Urban   \n",
       "..      ...     ...        ...           ...           ...           ...   \n",
       "609  Female      No          0      Graduate            No         Rural   \n",
       "610    Male     Yes         3+      Graduate            No         Rural   \n",
       "611    Male     Yes          1      Graduate            No         Urban   \n",
       "612    Male     Yes          2      Graduate            No         Urban   \n",
       "613  Female      No          0      Graduate           Yes     Semiurban   \n",
       "\n",
       "     Loan_Status  \n",
       "0              1  \n",
       "1              0  \n",
       "2              1  \n",
       "3              1  \n",
       "4              1  \n",
       "..           ...  \n",
       "609            1  \n",
       "610            1  \n",
       "611            1  \n",
       "612            1  \n",
       "613            0  \n",
       "\n",
       "[614 rows x 7 columns]"
      ]
     },
     "execution_count": 533,
     "metadata": {},
     "output_type": "execute_result"
    }
   ],
   "source": [
    "cat_data"
   ]
  },
  {
   "cell_type": "code",
   "execution_count": 534,
   "id": "642e9dc3-526b-420f-9e0d-c72710a329c1",
   "metadata": {},
   "outputs": [
    {
     "data": {
      "text/html": [
       "<div>\n",
       "<style scoped>\n",
       "    .dataframe tbody tr th:only-of-type {\n",
       "        vertical-align: middle;\n",
       "    }\n",
       "\n",
       "    .dataframe tbody tr th {\n",
       "        vertical-align: top;\n",
       "    }\n",
       "\n",
       "    .dataframe thead th {\n",
       "        text-align: right;\n",
       "    }\n",
       "</style>\n",
       "<table border=\"1\" class=\"dataframe\">\n",
       "  <thead>\n",
       "    <tr style=\"text-align: right;\">\n",
       "      <th></th>\n",
       "      <th>Gender</th>\n",
       "      <th>Married</th>\n",
       "      <th>Dependents</th>\n",
       "      <th>Education</th>\n",
       "      <th>Self_Employed</th>\n",
       "      <th>Property_Area</th>\n",
       "      <th>Loan_Status</th>\n",
       "    </tr>\n",
       "  </thead>\n",
       "  <tbody>\n",
       "    <tr>\n",
       "      <th>0</th>\n",
       "      <td>1</td>\n",
       "      <td>0</td>\n",
       "      <td>0</td>\n",
       "      <td>0</td>\n",
       "      <td>0</td>\n",
       "      <td>2</td>\n",
       "      <td>1</td>\n",
       "    </tr>\n",
       "    <tr>\n",
       "      <th>1</th>\n",
       "      <td>1</td>\n",
       "      <td>1</td>\n",
       "      <td>1</td>\n",
       "      <td>0</td>\n",
       "      <td>0</td>\n",
       "      <td>0</td>\n",
       "      <td>0</td>\n",
       "    </tr>\n",
       "    <tr>\n",
       "      <th>2</th>\n",
       "      <td>1</td>\n",
       "      <td>1</td>\n",
       "      <td>0</td>\n",
       "      <td>0</td>\n",
       "      <td>1</td>\n",
       "      <td>2</td>\n",
       "      <td>1</td>\n",
       "    </tr>\n",
       "    <tr>\n",
       "      <th>3</th>\n",
       "      <td>1</td>\n",
       "      <td>1</td>\n",
       "      <td>0</td>\n",
       "      <td>1</td>\n",
       "      <td>0</td>\n",
       "      <td>2</td>\n",
       "      <td>1</td>\n",
       "    </tr>\n",
       "    <tr>\n",
       "      <th>4</th>\n",
       "      <td>1</td>\n",
       "      <td>0</td>\n",
       "      <td>0</td>\n",
       "      <td>0</td>\n",
       "      <td>0</td>\n",
       "      <td>2</td>\n",
       "      <td>1</td>\n",
       "    </tr>\n",
       "    <tr>\n",
       "      <th>...</th>\n",
       "      <td>...</td>\n",
       "      <td>...</td>\n",
       "      <td>...</td>\n",
       "      <td>...</td>\n",
       "      <td>...</td>\n",
       "      <td>...</td>\n",
       "      <td>...</td>\n",
       "    </tr>\n",
       "    <tr>\n",
       "      <th>609</th>\n",
       "      <td>0</td>\n",
       "      <td>0</td>\n",
       "      <td>0</td>\n",
       "      <td>0</td>\n",
       "      <td>0</td>\n",
       "      <td>0</td>\n",
       "      <td>1</td>\n",
       "    </tr>\n",
       "    <tr>\n",
       "      <th>610</th>\n",
       "      <td>1</td>\n",
       "      <td>1</td>\n",
       "      <td>3</td>\n",
       "      <td>0</td>\n",
       "      <td>0</td>\n",
       "      <td>0</td>\n",
       "      <td>1</td>\n",
       "    </tr>\n",
       "    <tr>\n",
       "      <th>611</th>\n",
       "      <td>1</td>\n",
       "      <td>1</td>\n",
       "      <td>1</td>\n",
       "      <td>0</td>\n",
       "      <td>0</td>\n",
       "      <td>2</td>\n",
       "      <td>1</td>\n",
       "    </tr>\n",
       "    <tr>\n",
       "      <th>612</th>\n",
       "      <td>1</td>\n",
       "      <td>1</td>\n",
       "      <td>2</td>\n",
       "      <td>0</td>\n",
       "      <td>0</td>\n",
       "      <td>2</td>\n",
       "      <td>1</td>\n",
       "    </tr>\n",
       "    <tr>\n",
       "      <th>613</th>\n",
       "      <td>0</td>\n",
       "      <td>0</td>\n",
       "      <td>0</td>\n",
       "      <td>0</td>\n",
       "      <td>1</td>\n",
       "      <td>1</td>\n",
       "      <td>0</td>\n",
       "    </tr>\n",
       "  </tbody>\n",
       "</table>\n",
       "<p>614 rows × 7 columns</p>\n",
       "</div>"
      ],
      "text/plain": [
       "     Gender  Married  Dependents  Education  Self_Employed  Property_Area  \\\n",
       "0         1        0           0          0              0              2   \n",
       "1         1        1           1          0              0              0   \n",
       "2         1        1           0          0              1              2   \n",
       "3         1        1           0          1              0              2   \n",
       "4         1        0           0          0              0              2   \n",
       "..      ...      ...         ...        ...            ...            ...   \n",
       "609       0        0           0          0              0              0   \n",
       "610       1        1           3          0              0              0   \n",
       "611       1        1           1          0              0              2   \n",
       "612       1        1           2          0              0              2   \n",
       "613       0        0           0          0              1              1   \n",
       "\n",
       "     Loan_Status  \n",
       "0              1  \n",
       "1              0  \n",
       "2              1  \n",
       "3              1  \n",
       "4              1  \n",
       "..           ...  \n",
       "609            1  \n",
       "610            1  \n",
       "611            1  \n",
       "612            1  \n",
       "613            0  \n",
       "\n",
       "[614 rows x 7 columns]"
      ]
     },
     "execution_count": 534,
     "metadata": {},
     "output_type": "execute_result"
    }
   ],
   "source": [
    "# Encode the independent categorical variable\n",
    "le = LabelEncoder()\n",
    "for i in cat_data:\n",
    "    cat_data[i] = le.fit_transform(cat_data[i])\n",
    "\n",
    "# Display the cat_data\n",
    "cat_data"
   ]
  },
  {
   "cell_type": "code",
   "execution_count": 535,
   "id": "ab048acf-d856-4081-890c-225770454318",
   "metadata": {},
   "outputs": [
    {
     "data": {
      "text/plain": [
       "Gender           int32\n",
       "Married          int32\n",
       "Dependents       int32\n",
       "Education        int32\n",
       "Self_Employed    int32\n",
       "Property_Area    int32\n",
       "Loan_Status      int64\n",
       "dtype: object"
      ]
     },
     "execution_count": 535,
     "metadata": {},
     "output_type": "execute_result"
    }
   ],
   "source": [
    "# Get the dtypes of cat_data\n",
    "cat_data.dtypes"
   ]
  },
  {
   "cell_type": "markdown",
   "id": "27c27b8c-d370-4e56-8d3f-2e36b623367a",
   "metadata": {},
   "source": [
    "##### Check the Loan_Status distribution for categorical values(plit by Loan_Status)\n",
    "\n"
   ]
  },
  {
   "cell_type": "code",
   "execution_count": 536,
   "id": "bacf010c-b382-442f-8f0b-271abf9d872c",
   "metadata": {},
   "outputs": [
    {
     "data": {
      "image/png": "[encoded data removed]",
      "text/plain": [
       "<Figure size 1500x1000 with 1 Axes>"
      ]
     },
     "metadata": {},
     "output_type": "display_data"
    },
    {
     "data": {
      "image/png": "[encoded data removed]",
      "text/plain": [
       "<Figure size 1500x1000 with 1 Axes>"
      ]
     },
     "metadata": {},
     "output_type": "display_data"
    },
    {
     "data": {
      "image/png": "[encoded data removed]",
      "text/plain": [
       "<Figure size 1500x1000 with 1 Axes>"
      ]
     },
     "metadata": {},
     "output_type": "display_data"
    },
    {
     "data": {
      "image/png": "[encoded data removed]",
      "text/plain": [
       "<Figure size 1500x1000 with 1 Axes>"
      ]
     },
     "metadata": {},
     "output_type": "display_data"
    },
    {
     "data": {
      "image/png": "[encoded data removed]",
      "text/plain": [
       "<Figure size 1500x1000 with 1 Axes>"
      ]
     },
     "metadata": {},
     "output_type": "display_data"
    },
    {
     "data": {
      "image/png": "[encoded data removed]",
      "text/plain": [
       "<Figure size 1500x1000 with 1 Axes>"
      ]
     },
     "metadata": {},
     "output_type": "display_data"
    },
    {
     "data": {
      "image/png": "[encoded data removed]",
      "text/plain": [
       "<Figure size 1500x1000 with 1 Axes>"
      ]
     },
     "metadata": {},
     "output_type": "display_data"
    }
   ],
   "source": [
    "# Loan_Status distribution for categorical values\n",
    "\n",
    "for i in cat_data[:-1]: \n",
    "    plt.figure(figsize=(15,10))\n",
    "    plt.subplot(2,3,1)\n",
    "    sns.countplot(x=i ,hue='Loan_Status', data= df ,palette='plasma')\n",
    "    plt.xlabel(i, fontsize=14)"
   ]
  },
  {
   "cell_type": "markdown",
   "id": "37160a23-4340-4086-a53c-f4de9e20a5f1",
   "metadata": {},
   "source": [
    "##### Check relation between the Loan_Status and numerical columns"
   ]
  },
  {
   "cell_type": "code",
   "execution_count": 537,
   "id": "97724c2c-7f78-4ff5-b77e-d81a03f22fa8",
   "metadata": {},
   "outputs": [
    {
     "data": {
      "text/plain": [
       "<matplotlib.collections.PathCollection at 0x156da3f1450>"
      ]
     },
     "execution_count": 537,
     "metadata": {},
     "output_type": "execute_result"
    },
    {
     "data": {
      "image/png": "[encoded data removed]",
      "text/plain": [
       "<Figure size 640x480 with 1 Axes>"
      ]
     },
     "metadata": {},
     "output_type": "display_data"
    }
   ],
   "source": [
    "# ApplicantIncome and Loan_Status\n",
    "plt.scatter(num_data['ApplicantIncome'], cat_data['Loan_Status'])"
   ]
  },
  {
   "cell_type": "code",
   "execution_count": 538,
   "id": "0cccc416-5013-45fa-9d11-02f8296f60ba",
   "metadata": {},
   "outputs": [
    {
     "data": {
      "text/plain": [
       "<matplotlib.collections.PathCollection at 0x156de5b8090>"
      ]
     },
     "execution_count": 538,
     "metadata": {},
     "output_type": "execute_result"
    },
    {
     "data": {
      "image/png": "[encoded data removed]",
      "text/plain": [
       "<Figure size 640x480 with 1 Axes>"
      ]
     },
     "metadata": {},
     "output_type": "display_data"
    }
   ],
   "source": [
    "# CoapplicantIncome and Loan_Status\n",
    "plt.scatter(num_data['CoapplicantIncome'], cat_data['Loan_Status'])"
   ]
  },
  {
   "cell_type": "code",
   "execution_count": 539,
   "id": "eeac3899-20bf-4538-ba9b-c751068aa5a5",
   "metadata": {},
   "outputs": [
    {
     "data": {
      "text/plain": [
       "<matplotlib.collections.PathCollection at 0x156da41df50>"
      ]
     },
     "execution_count": 539,
     "metadata": {},
     "output_type": "execute_result"
    },
    {
     "data": {
      "image/png": "[encoded data removed]",
      "text/plain": [
       "<Figure size 640x480 with 1 Axes>"
      ]
     },
     "metadata": {},
     "output_type": "display_data"
    }
   ],
   "source": [
    "# LoanAmount and Loan_Status\n",
    "plt.scatter(num_data['LoanAmount'], cat_data['Loan_Status'])"
   ]
  },
  {
   "cell_type": "markdown",
   "id": "f38a7725-9336-48e9-85be-2187a73781d1",
   "metadata": {},
   "source": [
    "##### Concat cat_data and num_data"
   ]
  },
  {
   "cell_type": "code",
   "execution_count": 540,
   "id": "07b24fd6-adef-4c81-b8b8-b37174904813",
   "metadata": {},
   "outputs": [],
   "source": [
    "# Concat cat_data and num_data\n",
    "\n",
    "data = pd.concat([num_data, cat_data], axis = 1)"
   ]
  },
  {
   "cell_type": "code",
   "execution_count": 541,
   "id": "183d6b12-ff97-4514-aab7-c3c05c13965b",
   "metadata": {},
   "outputs": [
    {
     "data": {
      "text/html": [
       "<div>\n",
       "<style scoped>\n",
       "    .dataframe tbody tr th:only-of-type {\n",
       "        vertical-align: middle;\n",
       "    }\n",
       "\n",
       "    .dataframe tbody tr th {\n",
       "        vertical-align: top;\n",
       "    }\n",
       "\n",
       "    .dataframe thead th {\n",
       "        text-align: right;\n",
       "    }\n",
       "</style>\n",
       "<table border=\"1\" class=\"dataframe\">\n",
       "  <thead>\n",
       "    <tr style=\"text-align: right;\">\n",
       "      <th></th>\n",
       "      <th>ApplicantIncome</th>\n",
       "      <th>CoapplicantIncome</th>\n",
       "      <th>LoanAmount</th>\n",
       "      <th>Loan_Amount_Term</th>\n",
       "      <th>Credit_History</th>\n",
       "      <th>Gender</th>\n",
       "      <th>Married</th>\n",
       "      <th>Dependents</th>\n",
       "      <th>Education</th>\n",
       "      <th>Self_Employed</th>\n",
       "      <th>Property_Area</th>\n",
       "      <th>Loan_Status</th>\n",
       "    </tr>\n",
       "  </thead>\n",
       "  <tbody>\n",
       "    <tr>\n",
       "      <th>0</th>\n",
       "      <td>5849.0</td>\n",
       "      <td>0.0</td>\n",
       "      <td>128.0</td>\n",
       "      <td>360.0</td>\n",
       "      <td>1.0</td>\n",
       "      <td>1</td>\n",
       "      <td>0</td>\n",
       "      <td>0</td>\n",
       "      <td>0</td>\n",
       "      <td>0</td>\n",
       "      <td>2</td>\n",
       "      <td>1</td>\n",
       "    </tr>\n",
       "    <tr>\n",
       "      <th>1</th>\n",
       "      <td>4583.0</td>\n",
       "      <td>1508.0</td>\n",
       "      <td>128.0</td>\n",
       "      <td>360.0</td>\n",
       "      <td>1.0</td>\n",
       "      <td>1</td>\n",
       "      <td>1</td>\n",
       "      <td>1</td>\n",
       "      <td>0</td>\n",
       "      <td>0</td>\n",
       "      <td>0</td>\n",
       "      <td>0</td>\n",
       "    </tr>\n",
       "    <tr>\n",
       "      <th>2</th>\n",
       "      <td>3000.0</td>\n",
       "      <td>0.0</td>\n",
       "      <td>66.0</td>\n",
       "      <td>360.0</td>\n",
       "      <td>1.0</td>\n",
       "      <td>1</td>\n",
       "      <td>1</td>\n",
       "      <td>0</td>\n",
       "      <td>0</td>\n",
       "      <td>1</td>\n",
       "      <td>2</td>\n",
       "      <td>1</td>\n",
       "    </tr>\n",
       "    <tr>\n",
       "      <th>3</th>\n",
       "      <td>2583.0</td>\n",
       "      <td>2358.0</td>\n",
       "      <td>120.0</td>\n",
       "      <td>360.0</td>\n",
       "      <td>1.0</td>\n",
       "      <td>1</td>\n",
       "      <td>1</td>\n",
       "      <td>0</td>\n",
       "      <td>1</td>\n",
       "      <td>0</td>\n",
       "      <td>2</td>\n",
       "      <td>1</td>\n",
       "    </tr>\n",
       "    <tr>\n",
       "      <th>4</th>\n",
       "      <td>6000.0</td>\n",
       "      <td>0.0</td>\n",
       "      <td>141.0</td>\n",
       "      <td>360.0</td>\n",
       "      <td>1.0</td>\n",
       "      <td>1</td>\n",
       "      <td>0</td>\n",
       "      <td>0</td>\n",
       "      <td>0</td>\n",
       "      <td>0</td>\n",
       "      <td>2</td>\n",
       "      <td>1</td>\n",
       "    </tr>\n",
       "    <tr>\n",
       "      <th>...</th>\n",
       "      <td>...</td>\n",
       "      <td>...</td>\n",
       "      <td>...</td>\n",
       "      <td>...</td>\n",
       "      <td>...</td>\n",
       "      <td>...</td>\n",
       "      <td>...</td>\n",
       "      <td>...</td>\n",
       "      <td>...</td>\n",
       "      <td>...</td>\n",
       "      <td>...</td>\n",
       "      <td>...</td>\n",
       "    </tr>\n",
       "    <tr>\n",
       "      <th>609</th>\n",
       "      <td>2900.0</td>\n",
       "      <td>0.0</td>\n",
       "      <td>71.0</td>\n",
       "      <td>360.0</td>\n",
       "      <td>1.0</td>\n",
       "      <td>0</td>\n",
       "      <td>0</td>\n",
       "      <td>0</td>\n",
       "      <td>0</td>\n",
       "      <td>0</td>\n",
       "      <td>0</td>\n",
       "      <td>1</td>\n",
       "    </tr>\n",
       "    <tr>\n",
       "      <th>610</th>\n",
       "      <td>4106.0</td>\n",
       "      <td>0.0</td>\n",
       "      <td>40.0</td>\n",
       "      <td>180.0</td>\n",
       "      <td>1.0</td>\n",
       "      <td>1</td>\n",
       "      <td>1</td>\n",
       "      <td>3</td>\n",
       "      <td>0</td>\n",
       "      <td>0</td>\n",
       "      <td>0</td>\n",
       "      <td>1</td>\n",
       "    </tr>\n",
       "    <tr>\n",
       "      <th>611</th>\n",
       "      <td>8072.0</td>\n",
       "      <td>240.0</td>\n",
       "      <td>253.0</td>\n",
       "      <td>360.0</td>\n",
       "      <td>1.0</td>\n",
       "      <td>1</td>\n",
       "      <td>1</td>\n",
       "      <td>1</td>\n",
       "      <td>0</td>\n",
       "      <td>0</td>\n",
       "      <td>2</td>\n",
       "      <td>1</td>\n",
       "    </tr>\n",
       "    <tr>\n",
       "      <th>612</th>\n",
       "      <td>7583.0</td>\n",
       "      <td>0.0</td>\n",
       "      <td>187.0</td>\n",
       "      <td>360.0</td>\n",
       "      <td>1.0</td>\n",
       "      <td>1</td>\n",
       "      <td>1</td>\n",
       "      <td>2</td>\n",
       "      <td>0</td>\n",
       "      <td>0</td>\n",
       "      <td>2</td>\n",
       "      <td>1</td>\n",
       "    </tr>\n",
       "    <tr>\n",
       "      <th>613</th>\n",
       "      <td>4583.0</td>\n",
       "      <td>0.0</td>\n",
       "      <td>133.0</td>\n",
       "      <td>360.0</td>\n",
       "      <td>0.0</td>\n",
       "      <td>0</td>\n",
       "      <td>0</td>\n",
       "      <td>0</td>\n",
       "      <td>0</td>\n",
       "      <td>1</td>\n",
       "      <td>1</td>\n",
       "      <td>0</td>\n",
       "    </tr>\n",
       "  </tbody>\n",
       "</table>\n",
       "<p>614 rows × 12 columns</p>\n",
       "</div>"
      ],
      "text/plain": [
       "     ApplicantIncome  CoapplicantIncome  LoanAmount  Loan_Amount_Term  \\\n",
       "0             5849.0                0.0       128.0             360.0   \n",
       "1             4583.0             1508.0       128.0             360.0   \n",
       "2             3000.0                0.0        66.0             360.0   \n",
       "3             2583.0             2358.0       120.0             360.0   \n",
       "4             6000.0                0.0       141.0             360.0   \n",
       "..               ...                ...         ...               ...   \n",
       "609           2900.0                0.0        71.0             360.0   \n",
       "610           4106.0                0.0        40.0             180.0   \n",
       "611           8072.0              240.0       253.0             360.0   \n",
       "612           7583.0                0.0       187.0             360.0   \n",
       "613           4583.0                0.0       133.0             360.0   \n",
       "\n",
       "     Credit_History  Gender  Married  Dependents  Education  Self_Employed  \\\n",
       "0               1.0       1        0           0          0              0   \n",
       "1               1.0       1        1           1          0              0   \n",
       "2               1.0       1        1           0          0              1   \n",
       "3               1.0       1        1           0          1              0   \n",
       "4               1.0       1        0           0          0              0   \n",
       "..              ...     ...      ...         ...        ...            ...   \n",
       "609             1.0       0        0           0          0              0   \n",
       "610             1.0       1        1           3          0              0   \n",
       "611             1.0       1        1           1          0              0   \n",
       "612             1.0       1        1           2          0              0   \n",
       "613             0.0       0        0           0          0              1   \n",
       "\n",
       "     Property_Area  Loan_Status  \n",
       "0                2            1  \n",
       "1                0            0  \n",
       "2                2            1  \n",
       "3                2            1  \n",
       "4                2            1  \n",
       "..             ...          ...  \n",
       "609              0            1  \n",
       "610              0            1  \n",
       "611              2            1  \n",
       "612              2            1  \n",
       "613              1            0  \n",
       "\n",
       "[614 rows x 12 columns]"
      ]
     },
     "execution_count": 541,
     "metadata": {},
     "output_type": "execute_result"
    }
   ],
   "source": [
    "# Display the data\n",
    "data"
   ]
  },
  {
   "cell_type": "markdown",
   "id": "d95084ae-29bf-4732-8357-4ea8c65b64a1",
   "metadata": {},
   "source": [
    "##### Recheck the missing values"
   ]
  },
  {
   "cell_type": "code",
   "execution_count": 542,
   "id": "f6286621-a197-428d-956e-7f0bbd2cd0d5",
   "metadata": {},
   "outputs": [
    {
     "data": {
      "text/plain": [
       "ApplicantIncome      0\n",
       "CoapplicantIncome    0\n",
       "LoanAmount           0\n",
       "Loan_Amount_Term     0\n",
       "Credit_History       0\n",
       "Gender               0\n",
       "Married              0\n",
       "Dependents           0\n",
       "Education            0\n",
       "Self_Employed        0\n",
       "Property_Area        0\n",
       "Loan_Status          0\n",
       "dtype: int64"
      ]
     },
     "execution_count": 542,
     "metadata": {},
     "output_type": "execute_result"
    }
   ],
   "source": [
    "# Check missing values\n",
    "data.isnull().sum()"
   ]
  },
  {
   "cell_type": "code",
   "execution_count": 543,
   "id": "8c00d802-e51a-4c42-baca-a854a55f92b7",
   "metadata": {},
   "outputs": [
    {
     "data": {
      "text/plain": [
       "<Axes: >"
      ]
     },
     "execution_count": 543,
     "metadata": {},
     "output_type": "execute_result"
    },
    {
     "data": {
      "image/png": "[encoded data removed]",
      "text/plain": [
       "<Figure size 640x480 with 1 Axes>"
      ]
     },
     "metadata": {},
     "output_type": "display_data"
    }
   ],
   "source": [
    "# Using a chart to check missing value\n",
    "sns.heatmap(data.isnull(), yticklabels = False, cbar = False, cmap = 'viridis')"
   ]
  },
  {
   "cell_type": "markdown",
   "id": "665b7500-4aed-47bf-8339-331df6af3510",
   "metadata": {},
   "source": [
    "Awesome!"
   ]
  },
  {
   "cell_type": "markdown",
   "id": "c7506b07-ab4f-4f8d-8fb0-3dfecff5233b",
   "metadata": {},
   "source": [
    "##### Check the correlation"
   ]
  },
  {
   "cell_type": "code",
   "execution_count": 544,
   "id": "94009205-4c5f-44b4-884b-4d147cb18ad5",
   "metadata": {},
   "outputs": [
    {
     "data": {
      "text/html": [
       "<style type=\"text/css\">\n",
       "#T_4d49c_row0_col0, #T_4d49c_row1_col1, #T_4d49c_row2_col2, #T_4d49c_row3_col3, #T_4d49c_row4_col4, #T_4d49c_row5_col5, #T_4d49c_row6_col6, #T_4d49c_row7_col7, #T_4d49c_row8_col8, #T_4d49c_row9_col9, #T_4d49c_row10_col10, #T_4d49c_row11_col11 {\n",
       "  background-color: #b40426;\n",
       "  color: #f1f1f1;\n",
       "}\n",
       "#T_4d49c_row0_col1, #T_4d49c_row2_col8, #T_4d49c_row3_col5, #T_4d49c_row3_col6, #T_4d49c_row3_col7, #T_4d49c_row3_col9, #T_4d49c_row3_col10, #T_4d49c_row6_col3, #T_4d49c_row7_col3, #T_4d49c_row8_col0, #T_4d49c_row8_col2, #T_4d49c_row8_col4, #T_4d49c_row8_col11, #T_4d49c_row10_col9 {\n",
       "  background-color: #3b4cc0;\n",
       "  color: #f1f1f1;\n",
       "}\n",
       "#T_4d49c_row0_col2 {\n",
       "  background-color: #f4c6af;\n",
       "  color: #000000;\n",
       "}\n",
       "#T_4d49c_row0_col3, #T_4d49c_row3_col1, #T_4d49c_row11_col1 {\n",
       "  background-color: #4a63d3;\n",
       "  color: #f1f1f1;\n",
       "}\n",
       "#T_4d49c_row0_col4, #T_4d49c_row1_col10, #T_4d49c_row3_col8 {\n",
       "  background-color: #536edd;\n",
       "  color: #f1f1f1;\n",
       "}\n",
       "#T_4d49c_row0_col5, #T_4d49c_row1_col7, #T_4d49c_row4_col1 {\n",
       "  background-color: #6180e9;\n",
       "  color: #f1f1f1;\n",
       "}\n",
       "#T_4d49c_row0_col6 {\n",
       "  background-color: #6687ed;\n",
       "  color: #f1f1f1;\n",
       "}\n",
       "#T_4d49c_row0_col7 {\n",
       "  background-color: #7b9ff9;\n",
       "  color: #f1f1f1;\n",
       "}\n",
       "#T_4d49c_row0_col8, #T_4d49c_row1_col11, #T_4d49c_row5_col3, #T_4d49c_row8_col3, #T_4d49c_row10_col3 {\n",
       "  background-color: #4257c9;\n",
       "  color: #f1f1f1;\n",
       "}\n",
       "#T_4d49c_row0_col9, #T_4d49c_row6_col8 {\n",
       "  background-color: #6b8df0;\n",
       "  color: #f1f1f1;\n",
       "}\n",
       "#T_4d49c_row0_col10 {\n",
       "  background-color: #4c66d6;\n",
       "  color: #f1f1f1;\n",
       "}\n",
       "#T_4d49c_row0_col11, #T_4d49c_row6_col10, #T_4d49c_row9_col11 {\n",
       "  background-color: #516ddb;\n",
       "  color: #f1f1f1;\n",
       "}\n",
       "#T_4d49c_row1_col0, #T_4d49c_row8_col9 {\n",
       "  background-color: #4055c8;\n",
       "  color: #f1f1f1;\n",
       "}\n",
       "#T_4d49c_row1_col2 {\n",
       "  background-color: #a1c0ff;\n",
       "  color: #000000;\n",
       "}\n",
       "#T_4d49c_row1_col3, #T_4d49c_row2_col11, #T_4d49c_row7_col4, #T_4d49c_row9_col10 {\n",
       "  background-color: #465ecf;\n",
       "  color: #f1f1f1;\n",
       "}\n",
       "#T_4d49c_row1_col4, #T_4d49c_row10_col2, #T_4d49c_row10_col11 {\n",
       "  background-color: #5b7ae5;\n",
       "  color: #f1f1f1;\n",
       "}\n",
       "#T_4d49c_row1_col5, #T_4d49c_row8_col7, #T_4d49c_row9_col7 {\n",
       "  background-color: #688aef;\n",
       "  color: #f1f1f1;\n",
       "}\n",
       "#T_4d49c_row1_col6, #T_4d49c_row6_col11 {\n",
       "  background-color: #6e90f2;\n",
       "  color: #f1f1f1;\n",
       "}\n",
       "#T_4d49c_row1_col8, #T_4d49c_row4_col3, #T_4d49c_row6_col4, #T_4d49c_row9_col1 {\n",
       "  background-color: #5673e0;\n",
       "  color: #f1f1f1;\n",
       "}\n",
       "#T_4d49c_row1_col9 {\n",
       "  background-color: #3f53c6;\n",
       "  color: #f1f1f1;\n",
       "}\n",
       "#T_4d49c_row2_col0 {\n",
       "  background-color: #f3c8b2;\n",
       "  color: #000000;\n",
       "}\n",
       "#T_4d49c_row2_col1 {\n",
       "  background-color: #96b7ff;\n",
       "  color: #000000;\n",
       "}\n",
       "#T_4d49c_row2_col3, #T_4d49c_row7_col1 {\n",
       "  background-color: #6384eb;\n",
       "  color: #f1f1f1;\n",
       "}\n",
       "#T_4d49c_row2_col4, #T_4d49c_row5_col4, #T_4d49c_row11_col10 {\n",
       "  background-color: #5977e3;\n",
       "  color: #f1f1f1;\n",
       "}\n",
       "#T_4d49c_row2_col5, #T_4d49c_row3_col2, #T_4d49c_row5_col1 {\n",
       "  background-color: #7396f5;\n",
       "  color: #f1f1f1;\n",
       "}\n",
       "#T_4d49c_row2_col6 {\n",
       "  background-color: #82a6fb;\n",
       "  color: #f1f1f1;\n",
       "}\n",
       "#T_4d49c_row2_col7, #T_4d49c_row9_col0 {\n",
       "  background-color: #88abfd;\n",
       "  color: #000000;\n",
       "}\n",
       "#T_4d49c_row2_col9 {\n",
       "  background-color: #6788ee;\n",
       "  color: #f1f1f1;\n",
       "}\n",
       "#T_4d49c_row2_col10, #T_4d49c_row11_col9 {\n",
       "  background-color: #4358cb;\n",
       "  color: #f1f1f1;\n",
       "}\n",
       "#T_4d49c_row3_col0, #T_4d49c_row3_col4, #T_4d49c_row4_col5, #T_4d49c_row10_col4, #T_4d49c_row11_col5 {\n",
       "  background-color: #5470de;\n",
       "  color: #f1f1f1;\n",
       "}\n",
       "#T_4d49c_row3_col11 {\n",
       "  background-color: #4b64d5;\n",
       "  color: #f1f1f1;\n",
       "}\n",
       "#T_4d49c_row4_col0, #T_4d49c_row11_col0 {\n",
       "  background-color: #5f7fe8;\n",
       "  color: #f1f1f1;\n",
       "}\n",
       "#T_4d49c_row4_col2 {\n",
       "  background-color: #6c8ff1;\n",
       "  color: #f1f1f1;\n",
       "}\n",
       "#T_4d49c_row4_col6, #T_4d49c_row5_col11, #T_4d49c_row9_col6, #T_4d49c_row10_col6, #T_4d49c_row10_col7 {\n",
       "  background-color: #5875e1;\n",
       "  color: #f1f1f1;\n",
       "}\n",
       "#T_4d49c_row4_col7, #T_4d49c_row5_col10, #T_4d49c_row10_col5 {\n",
       "  background-color: #485fd1;\n",
       "  color: #f1f1f1;\n",
       "}\n",
       "#T_4d49c_row4_col8, #T_4d49c_row9_col3 {\n",
       "  background-color: #4e68d8;\n",
       "  color: #f1f1f1;\n",
       "}\n",
       "#T_4d49c_row4_col9, #T_4d49c_row5_col9 {\n",
       "  background-color: #445acc;\n",
       "  color: #f1f1f1;\n",
       "}\n",
       "#T_4d49c_row4_col10, #T_4d49c_row9_col5 {\n",
       "  background-color: #4f69d9;\n",
       "  color: #f1f1f1;\n",
       "}\n",
       "#T_4d49c_row4_col11 {\n",
       "  background-color: #ead4c8;\n",
       "  color: #000000;\n",
       "}\n",
       "#T_4d49c_row5_col0, #T_4d49c_row6_col1, #T_4d49c_row11_col6 {\n",
       "  background-color: #7295f4;\n",
       "  color: #f1f1f1;\n",
       "}\n",
       "#T_4d49c_row5_col2, #T_4d49c_row9_col2 {\n",
       "  background-color: #8badfd;\n",
       "  color: #000000;\n",
       "}\n",
       "#T_4d49c_row5_col6 {\n",
       "  background-color: #c7d7f0;\n",
       "  color: #000000;\n",
       "}\n",
       "#T_4d49c_row5_col7 {\n",
       "  background-color: #8db0fe;\n",
       "  color: #000000;\n",
       "}\n",
       "#T_4d49c_row5_col8 {\n",
       "  background-color: #7597f6;\n",
       "  color: #f1f1f1;\n",
       "}\n",
       "#T_4d49c_row6_col0 {\n",
       "  background-color: #7093f3;\n",
       "  color: #f1f1f1;\n",
       "}\n",
       "#T_4d49c_row6_col2 {\n",
       "  background-color: #92b4fe;\n",
       "  color: #000000;\n",
       "}\n",
       "#T_4d49c_row6_col5 {\n",
       "  background-color: #c3d5f4;\n",
       "  color: #000000;\n",
       "}\n",
       "#T_4d49c_row6_col7, #T_4d49c_row7_col6 {\n",
       "  background-color: #bfd3f6;\n",
       "  color: #000000;\n",
       "}\n",
       "#T_4d49c_row6_col9 {\n",
       "  background-color: #455cce;\n",
       "  color: #f1f1f1;\n",
       "}\n",
       "#T_4d49c_row7_col0, #T_4d49c_row7_col5 {\n",
       "  background-color: #85a8fc;\n",
       "  color: #f1f1f1;\n",
       "}\n",
       "#T_4d49c_row7_col2 {\n",
       "  background-color: #97b8ff;\n",
       "  color: #000000;\n",
       "}\n",
       "#T_4d49c_row7_col8 {\n",
       "  background-color: #799cf8;\n",
       "  color: #f1f1f1;\n",
       "}\n",
       "#T_4d49c_row7_col9, #T_4d49c_row7_col11, #T_4d49c_row9_col4, #T_4d49c_row10_col8 {\n",
       "  background-color: #5572df;\n",
       "  color: #f1f1f1;\n",
       "}\n",
       "#T_4d49c_row7_col10, #T_4d49c_row11_col3, #T_4d49c_row11_col8 {\n",
       "  background-color: #506bda;\n",
       "  color: #f1f1f1;\n",
       "}\n",
       "#T_4d49c_row8_col1 {\n",
       "  background-color: #4961d2;\n",
       "  color: #f1f1f1;\n",
       "}\n",
       "#T_4d49c_row8_col5, #T_4d49c_row11_col2 {\n",
       "  background-color: #5d7ce6;\n",
       "  color: #f1f1f1;\n",
       "}\n",
       "#T_4d49c_row8_col6, #T_4d49c_row11_col7 {\n",
       "  background-color: #5a78e4;\n",
       "  color: #f1f1f1;\n",
       "}\n",
       "#T_4d49c_row8_col10 {\n",
       "  background-color: #3d50c3;\n",
       "  color: #f1f1f1;\n",
       "}\n",
       "#T_4d49c_row9_col8 {\n",
       "  background-color: #6485ec;\n",
       "  color: #f1f1f1;\n",
       "}\n",
       "#T_4d49c_row10_col0, #T_4d49c_row10_col1 {\n",
       "  background-color: #5e7de7;\n",
       "  color: #f1f1f1;\n",
       "}\n",
       "#T_4d49c_row11_col4 {\n",
       "  background-color: #ebd3c6;\n",
       "  color: #000000;\n",
       "}\n",
       "</style>\n",
       "<table id=\"T_4d49c\">\n",
       "  <thead>\n",
       "    <tr>\n",
       "      <th class=\"blank level0\" >&nbsp;</th>\n",
       "      <th id=\"T_4d49c_level0_col0\" class=\"col_heading level0 col0\" >ApplicantIncome</th>\n",
       "      <th id=\"T_4d49c_level0_col1\" class=\"col_heading level0 col1\" >CoapplicantIncome</th>\n",
       "      <th id=\"T_4d49c_level0_col2\" class=\"col_heading level0 col2\" >LoanAmount</th>\n",
       "      <th id=\"T_4d49c_level0_col3\" class=\"col_heading level0 col3\" >Loan_Amount_Term</th>\n",
       "      <th id=\"T_4d49c_level0_col4\" class=\"col_heading level0 col4\" >Credit_History</th>\n",
       "      <th id=\"T_4d49c_level0_col5\" class=\"col_heading level0 col5\" >Gender</th>\n",
       "      <th id=\"T_4d49c_level0_col6\" class=\"col_heading level0 col6\" >Married</th>\n",
       "      <th id=\"T_4d49c_level0_col7\" class=\"col_heading level0 col7\" >Dependents</th>\n",
       "      <th id=\"T_4d49c_level0_col8\" class=\"col_heading level0 col8\" >Education</th>\n",
       "      <th id=\"T_4d49c_level0_col9\" class=\"col_heading level0 col9\" >Self_Employed</th>\n",
       "      <th id=\"T_4d49c_level0_col10\" class=\"col_heading level0 col10\" >Property_Area</th>\n",
       "      <th id=\"T_4d49c_level0_col11\" class=\"col_heading level0 col11\" >Loan_Status</th>\n",
       "    </tr>\n",
       "  </thead>\n",
       "  <tbody>\n",
       "    <tr>\n",
       "      <th id=\"T_4d49c_level0_row0\" class=\"row_heading level0 row0\" >ApplicantIncome</th>\n",
       "      <td id=\"T_4d49c_row0_col0\" class=\"data row0 col0\" >1.000000</td>\n",
       "      <td id=\"T_4d49c_row0_col1\" class=\"data row0 col1\" >-0.116605</td>\n",
       "      <td id=\"T_4d49c_row0_col2\" class=\"data row0 col2\" >0.555732</td>\n",
       "      <td id=\"T_4d49c_row0_col3\" class=\"data row0 col3\" >-0.046531</td>\n",
       "      <td id=\"T_4d49c_row0_col4\" class=\"data row0 col4\" >-0.006915</td>\n",
       "      <td id=\"T_4d49c_row0_col5\" class=\"data row0 col5\" >0.058809</td>\n",
       "      <td id=\"T_4d49c_row0_col6\" class=\"data row0 col6\" >0.051708</td>\n",
       "      <td id=\"T_4d49c_row0_col7\" class=\"data row0 col7\" >0.118202</td>\n",
       "      <td id=\"T_4d49c_row0_col8\" class=\"data row0 col8\" >-0.140760</td>\n",
       "      <td id=\"T_4d49c_row0_col9\" class=\"data row0 col9\" >0.127180</td>\n",
       "      <td id=\"T_4d49c_row0_col10\" class=\"data row0 col10\" >-0.009500</td>\n",
       "      <td id=\"T_4d49c_row0_col11\" class=\"data row0 col11\" >-0.004710</td>\n",
       "    </tr>\n",
       "    <tr>\n",
       "      <th id=\"T_4d49c_level0_row1\" class=\"row_heading level0 row1\" >CoapplicantIncome</th>\n",
       "      <td id=\"T_4d49c_row1_col0\" class=\"data row1 col0\" >-0.116605</td>\n",
       "      <td id=\"T_4d49c_row1_col1\" class=\"data row1 col1\" >1.000000</td>\n",
       "      <td id=\"T_4d49c_row1_col2\" class=\"data row1 col2\" >0.190020</td>\n",
       "      <td id=\"T_4d49c_row1_col3\" class=\"data row1 col3\" >-0.059383</td>\n",
       "      <td id=\"T_4d49c_row1_col4\" class=\"data row1 col4\" >0.021598</td>\n",
       "      <td id=\"T_4d49c_row1_col5\" class=\"data row1 col5\" >0.082912</td>\n",
       "      <td id=\"T_4d49c_row1_col6\" class=\"data row1 col6\" >0.075948</td>\n",
       "      <td id=\"T_4d49c_row1_col7\" class=\"data row1 col7\" >0.030430</td>\n",
       "      <td id=\"T_4d49c_row1_col8\" class=\"data row1 col8\" >-0.062290</td>\n",
       "      <td id=\"T_4d49c_row1_col9\" class=\"data row1 col9\" >-0.016100</td>\n",
       "      <td id=\"T_4d49c_row1_col10\" class=\"data row1 col10\" >0.010522</td>\n",
       "      <td id=\"T_4d49c_row1_col11\" class=\"data row1 col11\" >-0.059187</td>\n",
       "    </tr>\n",
       "    <tr>\n",
       "      <th id=\"T_4d49c_level0_row2\" class=\"row_heading level0 row2\" >LoanAmount</th>\n",
       "      <td id=\"T_4d49c_row2_col0\" class=\"data row2 col0\" >0.555732</td>\n",
       "      <td id=\"T_4d49c_row2_col1\" class=\"data row2 col1\" >0.190020</td>\n",
       "      <td id=\"T_4d49c_row2_col2\" class=\"data row2 col2\" >1.000000</td>\n",
       "      <td id=\"T_4d49c_row2_col3\" class=\"data row2 col3\" >0.038747</td>\n",
       "      <td id=\"T_4d49c_row2_col4\" class=\"data row2 col4\" >0.015444</td>\n",
       "      <td id=\"T_4d49c_row2_col5\" class=\"data row2 col5\" >0.116791</td>\n",
       "      <td id=\"T_4d49c_row2_col6\" class=\"data row2 col6\" >0.140653</td>\n",
       "      <td id=\"T_4d49c_row2_col7\" class=\"data row2 col7\" >0.156092</td>\n",
       "      <td id=\"T_4d49c_row2_col8\" class=\"data row2 col8\" >-0.169242</td>\n",
       "      <td id=\"T_4d49c_row2_col9\" class=\"data row2 col9\" >0.114256</td>\n",
       "      <td id=\"T_4d49c_row2_col10\" class=\"data row2 col10\" >-0.045023</td>\n",
       "      <td id=\"T_4d49c_row2_col11\" class=\"data row2 col11\" >-0.039871</td>\n",
       "    </tr>\n",
       "    <tr>\n",
       "      <th id=\"T_4d49c_level0_row3\" class=\"row_heading level0 row3\" >Loan_Amount_Term</th>\n",
       "      <td id=\"T_4d49c_row3_col0\" class=\"data row3 col0\" >-0.046531</td>\n",
       "      <td id=\"T_4d49c_row3_col1\" class=\"data row3 col1\" >-0.059383</td>\n",
       "      <td id=\"T_4d49c_row3_col2\" class=\"data row3 col2\" >0.038747</td>\n",
       "      <td id=\"T_4d49c_row3_col3\" class=\"data row3 col3\" >1.000000</td>\n",
       "      <td id=\"T_4d49c_row3_col4\" class=\"data row3 col4\" >-0.001817</td>\n",
       "      <td id=\"T_4d49c_row3_col5\" class=\"data row3 col5\" >-0.074030</td>\n",
       "      <td id=\"T_4d49c_row3_col6\" class=\"data row3 col6\" >-0.100912</td>\n",
       "      <td id=\"T_4d49c_row3_col7\" class=\"data row3 col7\" >-0.103864</td>\n",
       "      <td id=\"T_4d49c_row3_col8\" class=\"data row3 col8\" >-0.073928</td>\n",
       "      <td id=\"T_4d49c_row3_col9\" class=\"data row3 col9\" >-0.033739</td>\n",
       "      <td id=\"T_4d49c_row3_col10\" class=\"data row3 col10\" >-0.076120</td>\n",
       "      <td id=\"T_4d49c_row3_col11\" class=\"data row3 col11\" >-0.022549</td>\n",
       "    </tr>\n",
       "    <tr>\n",
       "      <th id=\"T_4d49c_level0_row4\" class=\"row_heading level0 row4\" >Credit_History</th>\n",
       "      <td id=\"T_4d49c_row4_col0\" class=\"data row4 col0\" >-0.006915</td>\n",
       "      <td id=\"T_4d49c_row4_col1\" class=\"data row4 col1\" >0.021598</td>\n",
       "      <td id=\"T_4d49c_row4_col2\" class=\"data row4 col2\" >0.015444</td>\n",
       "      <td id=\"T_4d49c_row4_col3\" class=\"data row4 col3\" >-0.001817</td>\n",
       "      <td id=\"T_4d49c_row4_col4\" class=\"data row4 col4\" >1.000000</td>\n",
       "      <td id=\"T_4d49c_row4_col5\" class=\"data row4 col5\" >0.015104</td>\n",
       "      <td id=\"T_4d49c_row4_col6\" class=\"data row4 col6\" >0.003285</td>\n",
       "      <td id=\"T_4d49c_row4_col7\" class=\"data row4 col7\" >-0.052246</td>\n",
       "      <td id=\"T_4d49c_row4_col8\" class=\"data row4 col8\" >-0.095467</td>\n",
       "      <td id=\"T_4d49c_row4_col9\" class=\"data row4 col9\" >-0.000599</td>\n",
       "      <td id=\"T_4d49c_row4_col10\" class=\"data row4 col10\" >-0.002080</td>\n",
       "      <td id=\"T_4d49c_row4_col11\" class=\"data row4 col11\" >0.516944</td>\n",
       "    </tr>\n",
       "    <tr>\n",
       "      <th id=\"T_4d49c_level0_row5\" class=\"row_heading level0 row5\" >Gender</th>\n",
       "      <td id=\"T_4d49c_row5_col0\" class=\"data row5 col0\" >0.058809</td>\n",
       "      <td id=\"T_4d49c_row5_col1\" class=\"data row5 col1\" >0.082912</td>\n",
       "      <td id=\"T_4d49c_row5_col2\" class=\"data row5 col2\" >0.116791</td>\n",
       "      <td id=\"T_4d49c_row5_col3\" class=\"data row5 col3\" >-0.074030</td>\n",
       "      <td id=\"T_4d49c_row5_col4\" class=\"data row5 col4\" >0.015104</td>\n",
       "      <td id=\"T_4d49c_row5_col5\" class=\"data row5 col5\" >1.000000</td>\n",
       "      <td id=\"T_4d49c_row5_col6\" class=\"data row5 col6\" >0.364569</td>\n",
       "      <td id=\"T_4d49c_row5_col7\" class=\"data row5 col7\" >0.172914</td>\n",
       "      <td id=\"T_4d49c_row5_col8\" class=\"data row5 col8\" >0.045364</td>\n",
       "      <td id=\"T_4d49c_row5_col9\" class=\"data row5 col9\" >-0.000525</td>\n",
       "      <td id=\"T_4d49c_row5_col10\" class=\"data row5 col10\" >-0.025752</td>\n",
       "      <td id=\"T_4d49c_row5_col11\" class=\"data row5 col11\" >0.017987</td>\n",
       "    </tr>\n",
       "    <tr>\n",
       "      <th id=\"T_4d49c_level0_row6\" class=\"row_heading level0 row6\" >Married</th>\n",
       "      <td id=\"T_4d49c_row6_col0\" class=\"data row6 col0\" >0.051708</td>\n",
       "      <td id=\"T_4d49c_row6_col1\" class=\"data row6 col1\" >0.075948</td>\n",
       "      <td id=\"T_4d49c_row6_col2\" class=\"data row6 col2\" >0.140653</td>\n",
       "      <td id=\"T_4d49c_row6_col3\" class=\"data row6 col3\" >-0.100912</td>\n",
       "      <td id=\"T_4d49c_row6_col4\" class=\"data row6 col4\" >0.003285</td>\n",
       "      <td id=\"T_4d49c_row6_col5\" class=\"data row6 col5\" >0.364569</td>\n",
       "      <td id=\"T_4d49c_row6_col6\" class=\"data row6 col6\" >1.000000</td>\n",
       "      <td id=\"T_4d49c_row6_col7\" class=\"data row6 col7\" >0.334216</td>\n",
       "      <td id=\"T_4d49c_row6_col8\" class=\"data row6 col8\" >0.012304</td>\n",
       "      <td id=\"T_4d49c_row6_col9\" class=\"data row6 col9\" >0.004489</td>\n",
       "      <td id=\"T_4d49c_row6_col10\" class=\"data row6 col10\" >0.004257</td>\n",
       "      <td id=\"T_4d49c_row6_col11\" class=\"data row6 col11\" >0.091478</td>\n",
       "    </tr>\n",
       "    <tr>\n",
       "      <th id=\"T_4d49c_level0_row7\" class=\"row_heading level0 row7\" >Dependents</th>\n",
       "      <td id=\"T_4d49c_row7_col0\" class=\"data row7 col0\" >0.118202</td>\n",
       "      <td id=\"T_4d49c_row7_col1\" class=\"data row7 col1\" >0.030430</td>\n",
       "      <td id=\"T_4d49c_row7_col2\" class=\"data row7 col2\" >0.156092</td>\n",
       "      <td id=\"T_4d49c_row7_col3\" class=\"data row7 col3\" >-0.103864</td>\n",
       "      <td id=\"T_4d49c_row7_col4\" class=\"data row7 col4\" >-0.052246</td>\n",
       "      <td id=\"T_4d49c_row7_col5\" class=\"data row7 col5\" >0.172914</td>\n",
       "      <td id=\"T_4d49c_row7_col6\" class=\"data row7 col6\" >0.334216</td>\n",
       "      <td id=\"T_4d49c_row7_col7\" class=\"data row7 col7\" >1.000000</td>\n",
       "      <td id=\"T_4d49c_row7_col8\" class=\"data row7 col8\" >0.055752</td>\n",
       "      <td id=\"T_4d49c_row7_col9\" class=\"data row7 col9\" >0.056798</td>\n",
       "      <td id=\"T_4d49c_row7_col10\" class=\"data row7 col10\" >-0.000244</td>\n",
       "      <td id=\"T_4d49c_row7_col11\" class=\"data row7 col11\" >0.010118</td>\n",
       "    </tr>\n",
       "    <tr>\n",
       "      <th id=\"T_4d49c_level0_row8\" class=\"row_heading level0 row8\" >Education</th>\n",
       "      <td id=\"T_4d49c_row8_col0\" class=\"data row8 col0\" >-0.140760</td>\n",
       "      <td id=\"T_4d49c_row8_col1\" class=\"data row8 col1\" >-0.062290</td>\n",
       "      <td id=\"T_4d49c_row8_col2\" class=\"data row8 col2\" >-0.169242</td>\n",
       "      <td id=\"T_4d49c_row8_col3\" class=\"data row8 col3\" >-0.073928</td>\n",
       "      <td id=\"T_4d49c_row8_col4\" class=\"data row8 col4\" >-0.095467</td>\n",
       "      <td id=\"T_4d49c_row8_col5\" class=\"data row8 col5\" >0.045364</td>\n",
       "      <td id=\"T_4d49c_row8_col6\" class=\"data row8 col6\" >0.012304</td>\n",
       "      <td id=\"T_4d49c_row8_col7\" class=\"data row8 col7\" >0.055752</td>\n",
       "      <td id=\"T_4d49c_row8_col8\" class=\"data row8 col8\" >1.000000</td>\n",
       "      <td id=\"T_4d49c_row8_col9\" class=\"data row8 col9\" >-0.010383</td>\n",
       "      <td id=\"T_4d49c_row8_col10\" class=\"data row8 col10\" >-0.065243</td>\n",
       "      <td id=\"T_4d49c_row8_col11\" class=\"data row8 col11\" >-0.085884</td>\n",
       "    </tr>\n",
       "    <tr>\n",
       "      <th id=\"T_4d49c_level0_row9\" class=\"row_heading level0 row9\" >Self_Employed</th>\n",
       "      <td id=\"T_4d49c_row9_col0\" class=\"data row9 col0\" >0.127180</td>\n",
       "      <td id=\"T_4d49c_row9_col1\" class=\"data row9 col1\" >-0.016100</td>\n",
       "      <td id=\"T_4d49c_row9_col2\" class=\"data row9 col2\" >0.114256</td>\n",
       "      <td id=\"T_4d49c_row9_col3\" class=\"data row9 col3\" >-0.033739</td>\n",
       "      <td id=\"T_4d49c_row9_col4\" class=\"data row9 col4\" >-0.000599</td>\n",
       "      <td id=\"T_4d49c_row9_col5\" class=\"data row9 col5\" >-0.000525</td>\n",
       "      <td id=\"T_4d49c_row9_col6\" class=\"data row9 col6\" >0.004489</td>\n",
       "      <td id=\"T_4d49c_row9_col7\" class=\"data row9 col7\" >0.056798</td>\n",
       "      <td id=\"T_4d49c_row9_col8\" class=\"data row9 col8\" >-0.010383</td>\n",
       "      <td id=\"T_4d49c_row9_col9\" class=\"data row9 col9\" >1.000000</td>\n",
       "      <td id=\"T_4d49c_row9_col10\" class=\"data row9 col10\" >-0.030860</td>\n",
       "      <td id=\"T_4d49c_row9_col11\" class=\"data row9 col11\" >-0.003700</td>\n",
       "    </tr>\n",
       "    <tr>\n",
       "      <th id=\"T_4d49c_level0_row10\" class=\"row_heading level0 row10\" >Property_Area</th>\n",
       "      <td id=\"T_4d49c_row10_col0\" class=\"data row10 col0\" >-0.009500</td>\n",
       "      <td id=\"T_4d49c_row10_col1\" class=\"data row10 col1\" >0.010522</td>\n",
       "      <td id=\"T_4d49c_row10_col2\" class=\"data row10 col2\" >-0.045023</td>\n",
       "      <td id=\"T_4d49c_row10_col3\" class=\"data row10 col3\" >-0.076120</td>\n",
       "      <td id=\"T_4d49c_row10_col4\" class=\"data row10 col4\" >-0.002080</td>\n",
       "      <td id=\"T_4d49c_row10_col5\" class=\"data row10 col5\" >-0.025752</td>\n",
       "      <td id=\"T_4d49c_row10_col6\" class=\"data row10 col6\" >0.004257</td>\n",
       "      <td id=\"T_4d49c_row10_col7\" class=\"data row10 col7\" >-0.000244</td>\n",
       "      <td id=\"T_4d49c_row10_col8\" class=\"data row10 col8\" >-0.065243</td>\n",
       "      <td id=\"T_4d49c_row10_col9\" class=\"data row10 col9\" >-0.030860</td>\n",
       "      <td id=\"T_4d49c_row10_col10\" class=\"data row10 col10\" >1.000000</td>\n",
       "      <td id=\"T_4d49c_row10_col11\" class=\"data row10 col11\" >0.032112</td>\n",
       "    </tr>\n",
       "    <tr>\n",
       "      <th id=\"T_4d49c_level0_row11\" class=\"row_heading level0 row11\" >Loan_Status</th>\n",
       "      <td id=\"T_4d49c_row11_col0\" class=\"data row11 col0\" >-0.004710</td>\n",
       "      <td id=\"T_4d49c_row11_col1\" class=\"data row11 col1\" >-0.059187</td>\n",
       "      <td id=\"T_4d49c_row11_col2\" class=\"data row11 col2\" >-0.039871</td>\n",
       "      <td id=\"T_4d49c_row11_col3\" class=\"data row11 col3\" >-0.022549</td>\n",
       "      <td id=\"T_4d49c_row11_col4\" class=\"data row11 col4\" >0.516944</td>\n",
       "      <td id=\"T_4d49c_row11_col5\" class=\"data row11 col5\" >0.017987</td>\n",
       "      <td id=\"T_4d49c_row11_col6\" class=\"data row11 col6\" >0.091478</td>\n",
       "      <td id=\"T_4d49c_row11_col7\" class=\"data row11 col7\" >0.010118</td>\n",
       "      <td id=\"T_4d49c_row11_col8\" class=\"data row11 col8\" >-0.085884</td>\n",
       "      <td id=\"T_4d49c_row11_col9\" class=\"data row11 col9\" >-0.003700</td>\n",
       "      <td id=\"T_4d49c_row11_col10\" class=\"data row11 col10\" >0.032112</td>\n",
       "      <td id=\"T_4d49c_row11_col11\" class=\"data row11 col11\" >1.000000</td>\n",
       "    </tr>\n",
       "  </tbody>\n",
       "</table>\n"
      ],
      "text/plain": [
       "<pandas.io.formats.style.Styler at 0x156de5fbad0>"
      ]
     },
     "execution_count": 544,
     "metadata": {},
     "output_type": "execute_result"
    }
   ],
   "source": [
    "# Code a correlation matrix to help determine most correlated variables\n",
    "corr = data.corr(method='pearson')\n",
    "corr.style.background_gradient(cmap='coolwarm')"
   ]
  },
  {
   "cell_type": "code",
   "execution_count": 545,
   "id": "d9f37e74-6e8a-4514-bf73-77a1d28c46ba",
   "metadata": {},
   "outputs": [
    {
     "data": {
      "image/png": "[encoded data removed]",
      "text/plain": [
       "<Figure size 1500x1000 with 2 Axes>"
      ]
     },
     "metadata": {},
     "output_type": "display_data"
    }
   ],
   "source": [
    "# Plot correlation heatmap\n",
    "\n",
    "plt.figure(figsize=(15,10))\n",
    "sns.heatmap(corr, vmin=-1, vmax=1, annot=True, cmap='coolwarm')\n",
    "plt.title('Heatmap of Dataset',fontsize=18)\n",
    "plt.show();\n"
   ]
  },
  {
   "cell_type": "markdown",
   "id": "9be6af8e-6c5b-4b8a-bdf3-1b597284c79e",
   "metadata": {},
   "source": [
    "Credit_History  has the highest correlation with Loan_Status (a positive correlation of 0.52). Therefore our target value is highly dependent on this column."
   ]
  },
  {
   "cell_type": "markdown",
   "id": "dff0c90e-3e64-4092-aa08-d308595de43d",
   "metadata": {},
   "source": [
    "### 4- Building and evaluating of the model\n",
    "\n",
    "Model we will use: \n",
    "- Decision Tree\n",
    "- Random Forest\n",
    "- KNN\n",
    "- Logistic regression\n",
    "\n"
   ]
  },
  {
   "cell_type": "markdown",
   "id": "de076626-185f-4f09-b75f-262b5358c50b",
   "metadata": {},
   "source": [
    "##### Assign predictor variables and target variable\n"
   ]
  },
  {
   "cell_type": "code",
   "execution_count": 546,
   "id": "ca4c8788-709c-4ac8-a405-b4b548c43683",
   "metadata": {},
   "outputs": [],
   "source": [
    "# Target variable\n",
    "Y = data['Loan_Status']"
   ]
  },
  {
   "cell_type": "code",
   "execution_count": 547,
   "id": "76371244-0fb1-493d-a6f6-f08fd2458292",
   "metadata": {},
   "outputs": [],
   "source": [
    "# Predictor variables\n",
    "\n",
    "X = data.drop('Loan_Status', axis = 1)"
   ]
  },
  {
   "cell_type": "markdown",
   "id": "f41d8a4a-9077-4980-a9f9-b8a95cbfc3a4",
   "metadata": {},
   "source": [
    "##### Divide the dataset into train and test data"
   ]
  },
  {
   "cell_type": "code",
   "execution_count": 548,
   "id": "b9a89271-7182-4b44-9d70-02735f3d55fc",
   "metadata": {},
   "outputs": [],
   "source": [
    "# Perform the train-test split\n",
    "X_train, X_test, Y_train, Y_test = train_test_split(X, Y, stratify= Y, test_size = 0.2, random_state = 42)"
   ]
  },
  {
   "cell_type": "markdown",
   "id": "f2d144a7-24ea-4a52-b9b9-c1a53348f223",
   "metadata": {},
   "source": [
    "##### Get the train and test size"
   ]
  },
  {
   "cell_type": "code",
   "execution_count": 550,
   "id": "47993736-aad7-43e8-92cb-a703169ea068",
   "metadata": {},
   "outputs": [
    {
     "name": "stdout",
     "output_type": "stream",
     "text": [
      "X_train size: (491, 11)\n",
      "X_test size: (123, 11)\n",
      "Y_train size: (491,)\n",
      "Y_test size: (123,)\n"
     ]
    }
   ],
   "source": [
    "# Print the train and test size\n",
    "print('X_train size:', X_train.shape)\n",
    "print('X_test size:',X_test.shape)\n",
    "print('Y_train size:',Y_train.shape)\n",
    "print('Y_test size:',Y_test.shape)\n"
   ]
  },
  {
   "cell_type": "markdown",
   "id": "4e3797e5-ef4e-4601-882c-15827cfd04fc",
   "metadata": {},
   "source": [
    "##### - Decision Tree"
   ]
  },
  {
   "cell_type": "code",
   "execution_count": 551,
   "id": "e9b07080-ee8b-47d9-bd9f-99d05a1d9452",
   "metadata": {},
   "outputs": [
    {
     "name": "stdout",
     "output_type": "stream",
     "text": [
      "              precision    recall  f1-score   support\n",
      "\n",
      "           0       0.49      0.53      0.51        38\n",
      "           1       0.78      0.75      0.77        85\n",
      "\n",
      "    accuracy                           0.68       123\n",
      "   macro avg       0.63      0.64      0.64       123\n",
      "weighted avg       0.69      0.68      0.69       123\n",
      "\n",
      "The accuracy level: 68.29% Accurate\n"
     ]
    }
   ],
   "source": [
    "# Instanciate the model\n",
    "DT = DecisionTreeClassifier(random_state = 42)\n",
    "\n",
    "# Fit the model\n",
    "DT.fit(X_train, Y_train)\n",
    "Y_predict = DT.predict(X_test)\n",
    "\n",
    "# Create a classification report\n",
    "print(classification_report(Y_test, Y_predict))\n",
    "\n",
    "# Accuracy score\n",
    "DT_SC = accuracy_score(Y_test, Y_predict)\n",
    "print(f\"The accuracy level: {round(DT_SC*100,2)}% Accurate\")"
   ]
  },
  {
   "cell_type": "markdown",
   "id": "7e74a21a-087b-48db-bf4d-8944264ced04",
   "metadata": {},
   "source": [
    "##### - Random Forest"
   ]
  },
  {
   "cell_type": "code",
   "execution_count": 552,
   "id": "3331f2e5-4b1b-4a24-9d89-5b9dc7a55771",
   "metadata": {},
   "outputs": [
    {
     "name": "stdout",
     "output_type": "stream",
     "text": [
      "              precision    recall  f1-score   support\n",
      "\n",
      "           0       0.80      0.63      0.71        38\n",
      "           1       0.85      0.93      0.89        85\n",
      "\n",
      "    accuracy                           0.84       123\n",
      "   macro avg       0.82      0.78      0.80       123\n",
      "weighted avg       0.83      0.84      0.83       123\n",
      "\n",
      "The accuracy level: 83.74% Accurate\n"
     ]
    }
   ],
   "source": [
    "# Instanciate the model\n",
    "RF = RandomForestClassifier(random_state = 42)\n",
    "\n",
    "# Fit the model\n",
    "RF.fit(X_train, Y_train)\n",
    "Y_predict = RF.predict(X_test)\n",
    "\n",
    "# Create a classification report\n",
    "print(classification_report(Y_test, Y_predict))\n",
    "\n",
    "# Accuracy score\n",
    "RF_SC = accuracy_score(Y_test, Y_predict)\n",
    "print(f\"The accuracy level: {round(RF_SC*100,2)}% Accurate\")"
   ]
  },
  {
   "cell_type": "markdown",
   "id": "e1a8bf37-d986-4667-9b4a-737c7ea6988a",
   "metadata": {},
   "source": [
    "##### - KNN"
   ]
  },
  {
   "cell_type": "code",
   "execution_count": 553,
   "id": "bae98ff9-8513-4062-a55a-2af1ece2f24d",
   "metadata": {},
   "outputs": [
    {
     "name": "stdout",
     "output_type": "stream",
     "text": [
      "              precision    recall  f1-score   support\n",
      "\n",
      "           0       0.41      0.29      0.34        38\n",
      "           1       0.72      0.81      0.76        85\n",
      "\n",
      "    accuracy                           0.65       123\n",
      "   macro avg       0.56      0.55      0.55       123\n",
      "weighted avg       0.62      0.65      0.63       123\n",
      "\n",
      "The accuracy level: 65.04% Accurate\n"
     ]
    }
   ],
   "source": [
    "# Instanciate the model\n",
    "KN = KNeighborsClassifier()\n",
    "\n",
    "# Fit the model\n",
    "KN.fit(X_train, Y_train)\n",
    "Y_predict = KN.predict(X_test)\n",
    "\n",
    "# Create a classification report\n",
    "print(classification_report(Y_test, Y_predict))\n",
    "\n",
    "# Accuracy score\n",
    "KN_SC = accuracy_score(Y_test, Y_predict)\n",
    "print(f\"The accuracy level: {round(KN_SC*100,2)}% Accurate\")"
   ]
  },
  {
   "cell_type": "markdown",
   "id": "5b7f29a7-e5b3-4c9b-b26c-8d4cc3e08801",
   "metadata": {},
   "source": [
    "##### - Logistic Regression"
   ]
  },
  {
   "cell_type": "markdown",
   "id": "c64ee043-ef5f-4e6a-a1f9-9b9fdffd10fc",
   "metadata": {},
   "source": [
    "###### * Check the assumptions for logistic regression\n",
    "\n",
    "The following are the assumptions for logistic regression:\n",
    "- Independent observations (This refers to how the data was collected.)\n",
    "- No outliers\n",
    "- No severe multicollinearity \n",
    "- Linear relationship between X and the logit of y\n",
    "\n",
    "For: \n",
    "- The first assumption, we can assume that observations are independent for this project.\n",
    "- About the  second assumption the data doens't have outliers.\n",
    "- The is no multicollinearity.\n",
    "- The last assumption: In logistic regression, the relationship between a predictor variable and the dependent variable does not need to be linear, however, the log-odds (a.k.a., logit) of the dependent variable with respect to the predictor variable should be linear. Here is the formula for calculating log-odds, where p is the probability of response: logit(p) = ln(p/1-p).\n"
   ]
  },
  {
   "cell_type": "markdown",
   "id": "d55e8a87-a2b8-4675-ae38-d49c6553fc3e",
   "metadata": {},
   "source": [
    "###### * Build the model"
   ]
  },
  {
   "cell_type": "code",
   "execution_count": 554,
   "id": "d43401ca-32d9-4790-ad5a-2d0252824422",
   "metadata": {},
   "outputs": [
    {
     "name": "stdout",
     "output_type": "stream",
     "text": [
      "              precision    recall  f1-score   support\n",
      "\n",
      "           0       0.92      0.58      0.71        38\n",
      "           1       0.84      0.98      0.90        85\n",
      "\n",
      "    accuracy                           0.85       123\n",
      "   macro avg       0.88      0.78      0.81       123\n",
      "weighted avg       0.86      0.85      0.84       123\n",
      "\n",
      "The accuracy level: 85.37% Accurate\n"
     ]
    }
   ],
   "source": [
    "# Instanciate the model\n",
    "LR = LogisticRegression(random_state = 42, max_iter = 400, penalty = 'l1', solver='liblinear')\n",
    "\n",
    "# Fit the model\n",
    "LR.fit(X_train, Y_train)\n",
    "Y_predict = LR.predict(X_test)\n",
    "\n",
    "# Create a classification report\n",
    "print(classification_report(Y_test, Y_predict))\n",
    "\n",
    "# Accuracy score\n",
    "LR_SC = accuracy_score(Y_test, Y_predict)\n",
    "print(f\"The accuracy level: {round(LR_SC*100,2)}% Accurate\")"
   ]
  },
  {
   "cell_type": "markdown",
   "id": "fa6eba59-b48d-4339-a21f-51918e538e1d",
   "metadata": {},
   "source": [
    "##### Now create a table for all score"
   ]
  },
  {
   "cell_type": "code",
   "execution_count": 555,
   "id": "33fc0eb9-fb1c-4459-a759-f3bfb481498f",
   "metadata": {},
   "outputs": [
    {
     "data": {
      "text/html": [
       "<div>\n",
       "<style scoped>\n",
       "    .dataframe tbody tr th:only-of-type {\n",
       "        vertical-align: middle;\n",
       "    }\n",
       "\n",
       "    .dataframe tbody tr th {\n",
       "        vertical-align: top;\n",
       "    }\n",
       "\n",
       "    .dataframe thead th {\n",
       "        text-align: right;\n",
       "    }\n",
       "</style>\n",
       "<table border=\"1\" class=\"dataframe\">\n",
       "  <thead>\n",
       "    <tr style=\"text-align: right;\">\n",
       "      <th></th>\n",
       "      <th>ML Models</th>\n",
       "      <th>Score</th>\n",
       "    </tr>\n",
       "  </thead>\n",
       "  <tbody>\n",
       "    <tr>\n",
       "      <th>3</th>\n",
       "      <td>Logistic Regression</td>\n",
       "      <td>0.853659</td>\n",
       "    </tr>\n",
       "    <tr>\n",
       "      <th>1</th>\n",
       "      <td>Random Forest</td>\n",
       "      <td>0.837398</td>\n",
       "    </tr>\n",
       "    <tr>\n",
       "      <th>0</th>\n",
       "      <td>Decision Tree</td>\n",
       "      <td>0.682927</td>\n",
       "    </tr>\n",
       "    <tr>\n",
       "      <th>2</th>\n",
       "      <td>KNN</td>\n",
       "      <td>0.650407</td>\n",
       "    </tr>\n",
       "  </tbody>\n",
       "</table>\n",
       "</div>"
      ],
      "text/plain": [
       "             ML Models     Score\n",
       "3  Logistic Regression  0.853659\n",
       "1        Random Forest  0.837398\n",
       "0        Decision Tree  0.682927\n",
       "2                  KNN  0.650407"
      ]
     },
     "execution_count": 555,
     "metadata": {},
     "output_type": "execute_result"
    }
   ],
   "source": [
    "score = [DT_SC,RF_SC,KN_SC,LR_SC]\n",
    "Model = pd.DataFrame({\n",
    "    'ML Models': [\"Decision Tree\",\"Random Forest\",\"KNN\", \"Logistic Regression\"],\n",
    "    'Score': score})\n",
    "Model.sort_values(by='Score', ascending=False)"
   ]
  },
  {
   "cell_type": "markdown",
   "id": "572caaef-f4c5-4f8e-93f6-46d64d31fdf1",
   "metadata": {},
   "source": [
    "##### Plot a confusion matrix of the champion model's predictions."
   ]
  },
  {
   "cell_type": "code",
   "execution_count": 556,
   "id": "9cf83c28-3fdf-4a03-877d-b19490ca504c",
   "metadata": {},
   "outputs": [],
   "source": [
    "# Get the confusion matrix\n",
    "cm = confusion_matrix(Y_test, LR.predict(X_test))"
   ]
  },
  {
   "cell_type": "code",
   "execution_count": 557,
   "id": "7d6e9d71-06b0-4a4f-bcbc-a5e4f6dcd891",
   "metadata": {},
   "outputs": [
    {
     "data": {
      "image/png": "[encoded data removed]",
      "text/plain": [
       "<Figure size 640x480 with 2 Axes>"
      ]
     },
     "metadata": {},
     "output_type": "display_data"
    }
   ],
   "source": [
    "# Display the confusion matrix from the above cell\n",
    "\n",
    "disp = ConfusionMatrixDisplay(confusion_matrix=cm, \n",
    "                              display_labels=['0', '1'],\n",
    "                              )\n",
    "disp.plot();"
   ]
  },
  {
   "cell_type": "markdown",
   "id": "0c4368ec-0fd0-45c5-9a51-cda3b3353c18",
   "metadata": {},
   "source": [
    "##### The high True positives = 83, and True Negatives = 22, indicate good overall performance.\n"
   ]
  },
  {
   "cell_type": "markdown",
   "id": "2fc76a4e-5712-459a-97ce-6001d463b2af",
   "metadata": {},
   "source": [
    "##### Calculate precision and recall manually"
   ]
  },
  {
   "cell_type": "code",
   "execution_count": 558,
   "id": "c98ba3d2-d73c-4602-aeb0-4f829a92aa7f",
   "metadata": {},
   "outputs": [
    {
     "data": {
      "text/plain": [
       "0.8383838383838383"
      ]
     },
     "execution_count": 558,
     "metadata": {},
     "output_type": "execute_result"
    }
   ],
   "source": [
    "# Calculate precision manually\n",
    "precision = cm[1,1] / (cm[0, 1] + cm[1, 1])\n",
    "precision"
   ]
  },
  {
   "cell_type": "code",
   "execution_count": 559,
   "id": "926b8ddf-85f7-46f1-8469-eb97013a2ff5",
   "metadata": {},
   "outputs": [
    {
     "data": {
      "text/plain": [
       "0.9764705882352941"
      ]
     },
     "execution_count": 559,
     "metadata": {},
     "output_type": "execute_result"
    }
   ],
   "source": [
    "# Calculate recall manually\n",
    "recall = cm[1,1] / (cm[1, 0] + cm[1, 1])\n",
    "recall"
   ]
  },
  {
   "cell_type": "markdown",
   "id": "a1672f3f-4af1-43ba-9549-64d245276c8d",
   "metadata": {},
   "source": [
    "Awesome! Everything looks good!"
   ]
  },
  {
   "cell_type": "markdown",
   "id": "d6dd5ccb-474b-40ed-bb6f-79b871c5b853",
   "metadata": {},
   "source": [
    "##### Get the coefficients of each variable. \n",
    "The coefficients are in order of how the variables are listed in the dataset. \n",
    "The coefficients represent the change in the log odds of the target variable for every one unit increase in X."
   ]
  },
  {
   "cell_type": "code",
   "execution_count": 560,
   "id": "1d879f44-2754-42bc-9782-4ac5988a9104",
   "metadata": {},
   "outputs": [
    {
     "data": {
      "text/plain": [
       "ApplicantIncome     -0.000004\n",
       "CoapplicantIncome   -0.000059\n",
       "LoanAmount          -0.000896\n",
       "Loan_Amount_Term    -0.001191\n",
       "Credit_History       2.873522\n",
       "Gender              -0.175601\n",
       "Married              0.433112\n",
       "Dependents           0.095153\n",
       "Education           -0.335396\n",
       "Self_Employed       -0.104460\n",
       "Property_Area        0.029077\n",
       "dtype: float64"
      ]
     },
     "execution_count": 560,
     "metadata": {},
     "output_type": "execute_result"
    }
   ],
   "source": [
    "pd.Series(LR.coef_[0], index=X.columns)"
   ]
  },
  {
   "cell_type": "markdown",
   "id": "3168679b-f778-49e2-8a7d-f1e02d802b30",
   "metadata": {},
   "source": [
    "##### Generate a bar graph of the model's coefficients for a visual representation of the importance of the model's features"
   ]
  },
  {
   "cell_type": "code",
   "execution_count": 561,
   "id": "ff39cc01-3f8d-4f4e-9169-0f87d7fbe97b",
   "metadata": {},
   "outputs": [
    {
     "data": {
      "text/plain": [
       "[('Credit_History', 2.8735218066349804),\n",
       " ('Married', 0.43311161955927935),\n",
       " ('Dependents', 0.09515339805522645),\n",
       " ('Property_Area', 0.029076717118433026),\n",
       " ('ApplicantIncome', -3.900931866275405e-06),\n",
       " ('CoapplicantIncome', -5.9352357789864654e-05),\n",
       " ('LoanAmount', -0.0008962465428319331),\n",
       " ('Loan_Amount_Term', -0.001191247773453141),\n",
       " ('Self_Employed', -0.10446020877380914),\n",
       " ('Gender', -0.17560095992464983),\n",
       " ('Education', -0.33539641354534316)]"
      ]
     },
     "execution_count": 561,
     "metadata": {},
     "output_type": "execute_result"
    }
   ],
   "source": [
    "# Create a list of (column_name, coefficient) tuples\n",
    "feature_importance = list(zip(X_train.columns, LR.coef_[0]))\n",
    "\n",
    "# Sort the list by coefficient value\n",
    "feature_importance = sorted(feature_importance, key=lambda x: x[1], reverse=True)\n",
    "feature_importance"
   ]
  },
  {
   "cell_type": "code",
   "execution_count": 562,
   "id": "9347c28a-00bc-469e-811c-a0da8e02c010",
   "metadata": {},
   "outputs": [
    {
     "data": {
      "image/png": "[encoded data removed]",
      "text/plain": [
       "<Figure size 640x480 with 1 Axes>"
      ]
     },
     "metadata": {},
     "output_type": "display_data"
    }
   ],
   "source": [
    "# Plot the feature importances\n",
    "import seaborn as sns\n",
    "sns.barplot(x=[x[1] for x in feature_importance],\n",
    "            y=[x[0] for x in feature_importance],\n",
    "            orient='h')\n",
    "plt.title('Feature importance');"
   ]
  },
  {
   "cell_type": "markdown",
   "id": "a27f6b0c-6be3-4b3f-aa55-43a961304e6a",
   "metadata": {},
   "source": [
    "### 5- Conclusion"
   ]
  },
  {
   "cell_type": "markdown",
   "id": "f6643057-c2f8-48b4-9519-e55358efea44",
   "metadata": {},
   "source": [
    "- Credit_History is a very important variable because of its high correlation with Loan_Status.\n",
    "- The Logistic Regression and Random forest performed well.\n",
    "- The Logistic Regression model has a Good precision : 84 % and very high recall = 98 %, which means that it will not make a lot of false negative and false positive predictions.\n",
    "- What are the ethical implications of the model? What are the consequences of your model making errors?\n",
    "What is the likely effect of the model when it predicts a false negative (i.e., when the model predicts not to authorize the loan to a customer, but we will in fact)?\n",
    "In this case, the company will have a shortfall in terms of turnover\n",
    "\n",
    "What is the likely effect of the model when it predicts a false positive (i.e., when the model predicts to authorize the loan to a customer, but we won't actually do that)?\n",
    "The company can take proactive steps to get customers to pay for their loans.\n"
   ]
  },
  {
   "cell_type": "code",
   "execution_count": null,
   "id": "30e75742-e3de-4584-a1ab-d77e353e0969",
   "metadata": {},
   "outputs": [],
   "source": []
  }
 ],
 "metadata": {
  "kernelspec": {
   "display_name": "Python 3 (ipykernel)",
   "language": "python",
   "name": "python3"
  },
  "language_info": {
   "codemirror_mode": {
    "name": "ipython",
    "version": 3
   },
   "file_extension": ".py",
   "mimetype": "text/x-python",
   "name": "python",
   "nbconvert_exporter": "python",
   "pygments_lexer": "ipython3",
   "version": "3.11.5"
  }
 },
 "nbformat": 4,
 "nbformat_minor": 5
}
